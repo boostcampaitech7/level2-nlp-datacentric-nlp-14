{
 "cells": [
  {
   "cell_type": "code",
   "execution_count": 1,
   "metadata": {},
   "outputs": [
    {
     "name": "stderr",
     "output_type": "stream",
     "text": [
      "/data/ephemeral/eyeol/.local/lib/python3.10/site-packages/tqdm/auto.py:21: TqdmWarning: IProgress not found. Please update jupyter and ipywidgets. See https://ipywidgets.readthedocs.io/en/stable/user_install.html\n",
      "  from .autonotebook import tqdm as notebook_tqdm\n"
     ]
    }
   ],
   "source": [
    "import pandas as pd\n",
    "from transformers import AutoTokenizer, AutoModelForSequenceClassification\n",
    "from cleanlab.filter import find_label_issues\n",
    "import torch\n",
    "import torch.nn.functional as F\n",
    "import random\n",
    "import numpy as np"
   ]
  },
  {
   "cell_type": "code",
   "execution_count": 2,
   "metadata": {},
   "outputs": [],
   "source": [
    "SEED = 42\n",
    "\n",
    "def set_seed():\n",
    "    random.seed(SEED)\n",
    "    np.random.seed(SEED)\n",
    "    torch.manual_seed(SEED)\n",
    "    torch.cuda.manual_seed(SEED)\n",
    "    torch.cuda.manual_seed_all(SEED)\n",
    "\n",
    "set_seed()\n",
    "# 이 셀만 실행하면 시드 고정 됨"
   ]
  },
  {
   "cell_type": "code",
   "execution_count": 3,
   "metadata": {},
   "outputs": [],
   "source": [
    "# CSV 파일을 Pandas 데이터프레임으로 로드\n",
    "df_train = pd.read_csv('data/train.csv')  # 파일 경로에 맞게 수정"
   ]
  },
  {
   "cell_type": "code",
   "execution_count": 4,
   "metadata": {},
   "outputs": [],
   "source": [
    "import re\n"
   ]
  },
  {
   "cell_type": "code",
   "execution_count": 5,
   "metadata": {},
   "outputs": [],
   "source": [
    "# 특수문자 비율과 문자-특수문자 교차 빈도 계산 함수\n",
    "def is_noisy_text(text):\n",
    "    # 특수문자 비율\n",
    "    special_chars = re.findall(r'[^\\w\\s]', text)\n",
    "    special_char_ratio = len(special_chars) / len(text) if len(text) > 0 else 0\n",
    "    \n",
    "    # 문자와 특수문자의 교차 빈도\n",
    "    cross_count = len(re.findall(r'(\\w[^\\w\\s])|([^\\w\\s]\\w)', text))\n",
    "    \n",
    "    # 노이즈 기준: 특수문자 비율이 높고, 문자-특수문자 교차가 많은 경우\n",
    "    if special_char_ratio >= 0.2 and cross_count >= 3:\n",
    "        return True\n",
    "    else:\n",
    "        return False"
   ]
  },
  {
   "cell_type": "code",
   "execution_count": 6,
   "metadata": {},
   "outputs": [],
   "source": [
    "# 노이즈 여부에 따라 데이터 분리\n",
    "df_train['is_noisy'] = df_train['text'].apply(is_noisy_text)\n",
    "df_noisy = df_train[df_train['is_noisy'] == True]\n",
    "df_clean = df_train[df_train['is_noisy'] == False]"
   ]
  },
  {
   "cell_type": "code",
   "execution_count": 7,
   "metadata": {},
   "outputs": [
    {
     "name": "stdout",
     "output_type": "stream",
     "text": [
      "노이즈 샘플 수: 313\n",
      "정상 샘플 수: 2487\n"
     ]
    }
   ],
   "source": [
    "# 결과 확인\n",
    "print(\"노이즈 샘플 수:\", len(df_noisy))\n",
    "print(\"정상 샘플 수:\", len(df_clean))"
   ]
  },
  {
   "cell_type": "code",
   "execution_count": 12,
   "metadata": {},
   "outputs": [
    {
     "name": "stdout",
     "output_type": "stream",
     "text": [
      "df_clean과 df_noisy를 각각 'clean_samples.csv'와 'noisy_samples.csv'로 저장했습니다.\n"
     ]
    }
   ],
   "source": [
    "# df_clean과 df_noisy를 CSV 파일로 저장\n",
    "df_clean.to_csv('clean_samples.csv', index=False, encoding='utf-8-sig')\n",
    "df_noisy.to_csv('noisy_samples.csv', index=False, encoding='utf-8-sig')\n",
    "\n",
    "print(\"df_clean과 df_noisy를 각각 'clean_samples.csv'와 'noisy_samples.csv'로 저장했습니다.\")\n"
   ]
  },
  {
   "cell_type": "code",
   "execution_count": null,
   "metadata": {},
   "outputs": [],
   "source": []
  },
  {
   "cell_type": "code",
   "execution_count": null,
   "metadata": {},
   "outputs": [],
   "source": [
    "# 텍스트와 타겟 열 추출\n",
    "texts = df_train['text'].tolist()  # 텍스트 데이터를 리스트로 변환\n",
    "labels = df_train['target'].tolist()  # 라벨 데이터를 리스트로 변환"
   ]
  },
  {
   "cell_type": "markdown",
   "metadata": {},
   "source": [
    "### 사용하는 모델\n",
    "- klue/bert-base\n",
    "- klue/roberta-large\n",
    "- FacebookAI/xlm-roberta-large\n",
    "- monologg/koelectra-base-v3-discriminator"
   ]
  },
  {
   "cell_type": "code",
   "execution_count": null,
   "metadata": {},
   "outputs": [
    {
     "name": "stderr",
     "output_type": "stream",
     "text": [
      "Some weights of BertForSequenceClassification were not initialized from the model checkpoint at klue/bert-base and are newly initialized: ['classifier.bias', 'classifier.weight']\n",
      "You should probably TRAIN this model on a down-stream task to be able to use it for predictions and inference.\n"
     ]
    }
   ],
   "source": [
    "# 모델과 토크나이저 로드\n",
    "model_name = \"klue/bert-base\"\n",
    "tokenizer = AutoTokenizer.from_pretrained(model_name)\n",
    "model = AutoModelForSequenceClassification.from_pretrained(model_name, num_labels=7)  # 라벨 개수에 맞게 설정\n"
   ]
  },
  {
   "cell_type": "code",
   "execution_count": null,
   "metadata": {},
   "outputs": [],
   "source": [
    "# 텍스트 데이터 토큰화\n",
    "inputs = tokenizer(texts, return_tensors=\"pt\", padding=True, truncation=True)"
   ]
  },
  {
   "cell_type": "markdown",
   "metadata": {},
   "source": [
    "### 모델별 예측 소요 시간(참고용)\n",
    "- klue/bert-base : 1m 14s\n",
    "- klue/roberta-large : 4m 12s\n",
    "- FacebookAI/xlm-roberta-large : 4m 24s\n",
    "- monologg/koelectra-base-v3-discriminator : 1m 13s"
   ]
  },
  {
   "cell_type": "code",
   "execution_count": null,
   "metadata": {},
   "outputs": [],
   "source": [
    "# 예측 수행 및 확률 계산\n",
    "with torch.no_grad():\n",
    "    outputs = model(**inputs)\n",
    "    logits = outputs.logits\n",
    "\n",
    "train_pred_probs = F.softmax(logits, dim=1).numpy()  # 예측 확률"
   ]
  },
  {
   "cell_type": "code",
   "execution_count": 8,
   "metadata": {},
   "outputs": [
    {
     "data": {
      "text/plain": [
       "(2800, 7)"
      ]
     },
     "execution_count": 8,
     "metadata": {},
     "output_type": "execute_result"
    }
   ],
   "source": [
    "# train_pred_probs 형태 확인\n",
    "train_pred_probs.shape"
   ]
  },
  {
   "cell_type": "code",
   "execution_count": null,
   "metadata": {},
   "outputs": [
    {
     "name": "stderr",
     "output_type": "stream",
     "text": [
      "huggingface/tokenizers: The current process just got forked, after parallelism has already been used. Disabling parallelism to avoid deadlocks...\n",
      "To disable this warning, you can either:\n",
      "\t- Avoid using `tokenizers` before the fork if possible\n",
      "\t- Explicitly set the environment variable TOKENIZERS_PARALLELISM=(true | false)\n",
      "huggingface/tokenizers: The current process just got forked, after parallelism has already been used. Disabling parallelism to avoid deadlocks...\n",
      "To disable this warning, you can either:\n",
      "\t- Avoid using `tokenizers` before the fork if possible\n",
      "\t- Explicitly set the environment variable TOKENIZERS_PARALLELISM=(true | false)\n"
     ]
    },
    {
     "name": "stderr",
     "output_type": "stream",
     "text": [
      "huggingface/tokenizers: The current process just got forked, after parallelism has already been used. Disabling parallelism to avoid deadlocks...\n",
      "To disable this warning, you can either:\n",
      "\t- Avoid using `tokenizers` before the fork if possible\n",
      "\t- Explicitly set the environment variable TOKENIZERS_PARALLELISM=(true | false)\n",
      "huggingface/tokenizers: The current process just got forked, after parallelism has already been used. Disabling parallelism to avoid deadlocks...\n",
      "To disable this warning, you can either:\n",
      "\t- Avoid using `tokenizers` before the fork if possible\n",
      "\t- Explicitly set the environment variable TOKENIZERS_PARALLELISM=(true | false)\n",
      "huggingface/tokenizers: The current process just got forked, after parallelism has already been used. Disabling parallelism to avoid deadlocks...\n",
      "To disable this warning, you can either:\n",
      "\t- Avoid using `tokenizers` before the fork if possible\n",
      "\t- Explicitly set the environment variable TOKENIZERS_PARALLELISM=(true | false)\n",
      "huggingface/tokenizers: The current process just got forked, after parallelism has already been used. Disabling parallelism to avoid deadlocks...\n",
      "To disable this warning, you can either:\n",
      "\t- Avoid using `tokenizers` before the fork if possible\n",
      "\t- Explicitly set the environment variable TOKENIZERS_PARALLELISM=(true | false)\n",
      "huggingface/tokenizers: The current process just got forked, after parallelism has already been used. Disabling parallelism to avoid deadlocks...\n",
      "To disable this warning, you can either:\n",
      "\t- Avoid using `tokenizers` before the fork if possible\n",
      "\t- Explicitly set the environment variable TOKENIZERS_PARALLELISM=(true | false)\n",
      "huggingface/tokenizers: The current process just got forked, after parallelism has already been used. Disabling parallelism to avoid deadlocks...\n",
      "To disable this warning, you can either:\n",
      "\t- Avoid using `tokenizers` before the fork if possible\n",
      "\t- Explicitly set the environment variable TOKENIZERS_PARALLELISM=(true | false)\n"
     ]
    }
   ],
   "source": [
    "# Cleanlab으로 라벨 오류 탐지\n",
    "ordered_label_issues = find_label_issues(\n",
    "    labels=labels,\n",
    "    pred_probs=train_pred_probs,\n",
    "    return_indices_ranked_by='self_confidence'\n",
    ")"
   ]
  },
  {
   "cell_type": "code",
   "execution_count": 19,
   "metadata": {},
   "outputs": [
    {
     "data": {
      "text/plain": [
       "1534"
      ]
     },
     "execution_count": 19,
     "metadata": {},
     "output_type": "execute_result"
    }
   ],
   "source": [
    "# 모델마다 oredered_label_issues 개수가 다릅니다\n",
    "len(ordered_label_issues)"
   ]
  },
  {
   "cell_type": "code",
   "execution_count": null,
   "metadata": {},
   "outputs": [
    {
     "name": "stdout",
     "output_type": "stream",
     "text": [
      "ID: ynat-v1_train_02415\n",
      "input text: 베네수엘라 외무 유엔서 트럼프마두로 직접 담판 제안종합\n",
      "label: 1\n",
      "-------------------\n",
      "ID: ynat-v1_train_02648\n",
      "input text: ,7안컵 선V단장에 7영일$축구7회 부회장6우Bh위해 지원\n",
      "label: 1\n",
      "-------------------\n",
      "ID: ynat-v1_train_01389\n",
      "input text: 20대 여성 전주서 실종…전주 여성 살해 피의자 연관 가능성종합\n",
      "label: 1\n",
      "-------------------\n",
      "ID: ynat-v1_train_00841\n",
      "input text: 31년만의 취재 관련 언론사 압수수색…어수선한 채널A종합\n",
      "label: 1\n",
      "-------------------\n",
      "ID: ynat-v1_train_01657\n",
      "input text: KB국민은행 농M 국가대표팀과-6년간 후원 <약\n",
      "label: 1\n",
      "-------------------\n"
     ]
    }
   ],
   "source": [
    "# 라벨 오류가 의심되는 샘플 출력\n",
    "head_issues = ordered_label_issues[0:5]\n",
    "for issue in head_issues:\n",
    "    print('ID:', df_train.iloc[issue]['ID'])\n",
    "    print('input text:', df_train.iloc[issue]['text'])\n",
    "    print('label:', df_train.iloc[issue]['target'])\n",
    "    print(\"-------------------\")"
   ]
  },
  {
   "cell_type": "code",
   "execution_count": 12,
   "metadata": {},
   "outputs": [],
   "source": [
    "from cleanlab.dataset import health_summary\n"
   ]
  },
  {
   "cell_type": "code",
   "execution_count": 13,
   "metadata": {},
   "outputs": [
    {
     "name": "stdout",
     "output_type": "stream",
     "text": [
      "----------------------------------------------------------\n",
      "|  Generating a Cleanlab Dataset Health Summary          |\n",
      "|   for your dataset with 2,800 examples and 7 classes.  |\n",
      "|  Note, Cleanlab is not a medical doctor... yet.        |\n",
      "----------------------------------------------------------\n",
      "\n",
      "Overall Class Quality and Noise across your dataset (below)\n",
      "------------------------------------------------------------ \n",
      "\n"
     ]
    },
    {
     "data": {
      "text/html": [
       "<div>\n",
       "<style scoped>\n",
       "    .dataframe tbody tr th:only-of-type {\n",
       "        vertical-align: middle;\n",
       "    }\n",
       "\n",
       "    .dataframe tbody tr th {\n",
       "        vertical-align: top;\n",
       "    }\n",
       "\n",
       "    .dataframe thead th {\n",
       "        text-align: right;\n",
       "    }\n",
       "</style>\n",
       "<table border=\"1\" class=\"dataframe\">\n",
       "  <thead>\n",
       "    <tr style=\"text-align: right;\">\n",
       "      <th></th>\n",
       "      <th>Class Name</th>\n",
       "      <th>Class Index</th>\n",
       "      <th>Label Issues</th>\n",
       "      <th>Inverse Label Issues</th>\n",
       "      <th>Label Noise</th>\n",
       "      <th>Inverse Label Noise</th>\n",
       "      <th>Label Quality Score</th>\n",
       "    </tr>\n",
       "  </thead>\n",
       "  <tbody>\n",
       "    <tr>\n",
       "      <th>0</th>\n",
       "      <td>2</td>\n",
       "      <td>2</td>\n",
       "      <td>381</td>\n",
       "      <td>88</td>\n",
       "      <td>0.981959</td>\n",
       "      <td>0.926316</td>\n",
       "      <td>0.018041</td>\n",
       "    </tr>\n",
       "    <tr>\n",
       "      <th>1</th>\n",
       "      <td>0</td>\n",
       "      <td>0</td>\n",
       "      <td>375</td>\n",
       "      <td>107</td>\n",
       "      <td>0.944584</td>\n",
       "      <td>0.829457</td>\n",
       "      <td>0.055416</td>\n",
       "    </tr>\n",
       "    <tr>\n",
       "      <th>2</th>\n",
       "      <td>1</td>\n",
       "      <td>1</td>\n",
       "      <td>385</td>\n",
       "      <td>104</td>\n",
       "      <td>0.939024</td>\n",
       "      <td>0.806202</td>\n",
       "      <td>0.060976</td>\n",
       "    </tr>\n",
       "    <tr>\n",
       "      <th>3</th>\n",
       "      <td>5</td>\n",
       "      <td>5</td>\n",
       "      <td>377</td>\n",
       "      <td>272</td>\n",
       "      <td>0.899761</td>\n",
       "      <td>0.866242</td>\n",
       "      <td>0.100239</td>\n",
       "    </tr>\n",
       "    <tr>\n",
       "      <th>4</th>\n",
       "      <td>4</td>\n",
       "      <td>4</td>\n",
       "      <td>346</td>\n",
       "      <td>338</td>\n",
       "      <td>0.852217</td>\n",
       "      <td>0.849246</td>\n",
       "      <td>0.147783</td>\n",
       "    </tr>\n",
       "    <tr>\n",
       "      <th>5</th>\n",
       "      <td>6</td>\n",
       "      <td>6</td>\n",
       "      <td>296</td>\n",
       "      <td>508</td>\n",
       "      <td>0.749367</td>\n",
       "      <td>0.836903</td>\n",
       "      <td>0.250633</td>\n",
       "    </tr>\n",
       "    <tr>\n",
       "      <th>6</th>\n",
       "      <td>3</td>\n",
       "      <td>3</td>\n",
       "      <td>223</td>\n",
       "      <td>966</td>\n",
       "      <td>0.579221</td>\n",
       "      <td>0.856383</td>\n",
       "      <td>0.420779</td>\n",
       "    </tr>\n",
       "  </tbody>\n",
       "</table>\n",
       "</div>"
      ],
      "text/plain": [
       "   Class Name  Class Index  Label Issues  Inverse Label Issues  Label Noise  \\\n",
       "0           2            2           381                    88     0.981959   \n",
       "1           0            0           375                   107     0.944584   \n",
       "2           1            1           385                   104     0.939024   \n",
       "3           5            5           377                   272     0.899761   \n",
       "4           4            4           346                   338     0.852217   \n",
       "5           6            6           296                   508     0.749367   \n",
       "6           3            3           223                   966     0.579221   \n",
       "\n",
       "   Inverse Label Noise  Label Quality Score  \n",
       "0             0.926316             0.018041  \n",
       "1             0.829457             0.055416  \n",
       "2             0.806202             0.060976  \n",
       "3             0.866242             0.100239  \n",
       "4             0.849246             0.147783  \n",
       "5             0.836903             0.250633  \n",
       "6             0.856383             0.420779  "
      ]
     },
     "metadata": {},
     "output_type": "display_data"
    },
    {
     "name": "stdout",
     "output_type": "stream",
     "text": [
      "\n",
      "Class Overlap. In some cases, you may want to merge classes in the top rows (below)\n",
      "-----------------------------------------------------------------------------------\n",
      "\n"
     ]
    },
    {
     "data": {
      "text/html": [
       "<div>\n",
       "<style scoped>\n",
       "    .dataframe tbody tr th:only-of-type {\n",
       "        vertical-align: middle;\n",
       "    }\n",
       "\n",
       "    .dataframe tbody tr th {\n",
       "        vertical-align: top;\n",
       "    }\n",
       "\n",
       "    .dataframe thead th {\n",
       "        text-align: right;\n",
       "    }\n",
       "</style>\n",
       "<table border=\"1\" class=\"dataframe\">\n",
       "  <thead>\n",
       "    <tr style=\"text-align: right;\">\n",
       "      <th></th>\n",
       "      <th>Class Name A</th>\n",
       "      <th>Class Name B</th>\n",
       "      <th>Class Index A</th>\n",
       "      <th>Class Index B</th>\n",
       "      <th>Num Overlapping Examples</th>\n",
       "      <th>Joint Probability</th>\n",
       "    </tr>\n",
       "  </thead>\n",
       "  <tbody>\n",
       "    <tr>\n",
       "      <th>0</th>\n",
       "      <td>3</td>\n",
       "      <td>6</td>\n",
       "      <td>3</td>\n",
       "      <td>6</td>\n",
       "      <td>240</td>\n",
       "      <td>0.085714</td>\n",
       "    </tr>\n",
       "    <tr>\n",
       "      <th>1</th>\n",
       "      <td>3</td>\n",
       "      <td>4</td>\n",
       "      <td>3</td>\n",
       "      <td>4</td>\n",
       "      <td>216</td>\n",
       "      <td>0.077143</td>\n",
       "    </tr>\n",
       "    <tr>\n",
       "      <th>2</th>\n",
       "      <td>3</td>\n",
       "      <td>5</td>\n",
       "      <td>3</td>\n",
       "      <td>5</td>\n",
       "      <td>194</td>\n",
       "      <td>0.069286</td>\n",
       "    </tr>\n",
       "    <tr>\n",
       "      <th>3</th>\n",
       "      <td>2</td>\n",
       "      <td>3</td>\n",
       "      <td>2</td>\n",
       "      <td>3</td>\n",
       "      <td>184</td>\n",
       "      <td>0.065714</td>\n",
       "    </tr>\n",
       "    <tr>\n",
       "      <th>4</th>\n",
       "      <td>0</td>\n",
       "      <td>3</td>\n",
       "      <td>0</td>\n",
       "      <td>3</td>\n",
       "      <td>184</td>\n",
       "      <td>0.065714</td>\n",
       "    </tr>\n",
       "    <tr>\n",
       "      <th>5</th>\n",
       "      <td>1</td>\n",
       "      <td>3</td>\n",
       "      <td>1</td>\n",
       "      <td>3</td>\n",
       "      <td>171</td>\n",
       "      <td>0.061071</td>\n",
       "    </tr>\n",
       "    <tr>\n",
       "      <th>6</th>\n",
       "      <td>4</td>\n",
       "      <td>6</td>\n",
       "      <td>4</td>\n",
       "      <td>6</td>\n",
       "      <td>148</td>\n",
       "      <td>0.052857</td>\n",
       "    </tr>\n",
       "    <tr>\n",
       "      <th>7</th>\n",
       "      <td>5</td>\n",
       "      <td>6</td>\n",
       "      <td>5</td>\n",
       "      <td>6</td>\n",
       "      <td>131</td>\n",
       "      <td>0.046786</td>\n",
       "    </tr>\n",
       "    <tr>\n",
       "      <th>8</th>\n",
       "      <td>4</td>\n",
       "      <td>5</td>\n",
       "      <td>4</td>\n",
       "      <td>5</td>\n",
       "      <td>117</td>\n",
       "      <td>0.041786</td>\n",
       "    </tr>\n",
       "    <tr>\n",
       "      <th>9</th>\n",
       "      <td>0</td>\n",
       "      <td>6</td>\n",
       "      <td>0</td>\n",
       "      <td>6</td>\n",
       "      <td>104</td>\n",
       "      <td>0.037143</td>\n",
       "    </tr>\n",
       "    <tr>\n",
       "      <th>10</th>\n",
       "      <td>1</td>\n",
       "      <td>6</td>\n",
       "      <td>1</td>\n",
       "      <td>6</td>\n",
       "      <td>96</td>\n",
       "      <td>0.034286</td>\n",
       "    </tr>\n",
       "    <tr>\n",
       "      <th>11</th>\n",
       "      <td>2</td>\n",
       "      <td>6</td>\n",
       "      <td>2</td>\n",
       "      <td>6</td>\n",
       "      <td>85</td>\n",
       "      <td>0.030357</td>\n",
       "    </tr>\n",
       "    <tr>\n",
       "      <th>12</th>\n",
       "      <td>1</td>\n",
       "      <td>4</td>\n",
       "      <td>1</td>\n",
       "      <td>4</td>\n",
       "      <td>79</td>\n",
       "      <td>0.028214</td>\n",
       "    </tr>\n",
       "    <tr>\n",
       "      <th>13</th>\n",
       "      <td>2</td>\n",
       "      <td>5</td>\n",
       "      <td>2</td>\n",
       "      <td>5</td>\n",
       "      <td>70</td>\n",
       "      <td>0.025000</td>\n",
       "    </tr>\n",
       "    <tr>\n",
       "      <th>14</th>\n",
       "      <td>0</td>\n",
       "      <td>5</td>\n",
       "      <td>0</td>\n",
       "      <td>5</td>\n",
       "      <td>69</td>\n",
       "      <td>0.024643</td>\n",
       "    </tr>\n",
       "    <tr>\n",
       "      <th>15</th>\n",
       "      <td>1</td>\n",
       "      <td>5</td>\n",
       "      <td>1</td>\n",
       "      <td>5</td>\n",
       "      <td>68</td>\n",
       "      <td>0.024286</td>\n",
       "    </tr>\n",
       "    <tr>\n",
       "      <th>16</th>\n",
       "      <td>0</td>\n",
       "      <td>4</td>\n",
       "      <td>0</td>\n",
       "      <td>4</td>\n",
       "      <td>62</td>\n",
       "      <td>0.022143</td>\n",
       "    </tr>\n",
       "    <tr>\n",
       "      <th>17</th>\n",
       "      <td>2</td>\n",
       "      <td>4</td>\n",
       "      <td>2</td>\n",
       "      <td>4</td>\n",
       "      <td>62</td>\n",
       "      <td>0.022143</td>\n",
       "    </tr>\n",
       "    <tr>\n",
       "      <th>18</th>\n",
       "      <td>1</td>\n",
       "      <td>2</td>\n",
       "      <td>1</td>\n",
       "      <td>2</td>\n",
       "      <td>40</td>\n",
       "      <td>0.014286</td>\n",
       "    </tr>\n",
       "    <tr>\n",
       "      <th>19</th>\n",
       "      <td>0</td>\n",
       "      <td>1</td>\n",
       "      <td>0</td>\n",
       "      <td>1</td>\n",
       "      <td>35</td>\n",
       "      <td>0.012500</td>\n",
       "    </tr>\n",
       "    <tr>\n",
       "      <th>20</th>\n",
       "      <td>0</td>\n",
       "      <td>2</td>\n",
       "      <td>0</td>\n",
       "      <td>2</td>\n",
       "      <td>28</td>\n",
       "      <td>0.010000</td>\n",
       "    </tr>\n",
       "  </tbody>\n",
       "</table>\n",
       "</div>"
      ],
      "text/plain": [
       "    Class Name A  Class Name B  Class Index A  Class Index B  \\\n",
       "0              3             6              3              6   \n",
       "1              3             4              3              4   \n",
       "2              3             5              3              5   \n",
       "3              2             3              2              3   \n",
       "4              0             3              0              3   \n",
       "5              1             3              1              3   \n",
       "6              4             6              4              6   \n",
       "7              5             6              5              6   \n",
       "8              4             5              4              5   \n",
       "9              0             6              0              6   \n",
       "10             1             6              1              6   \n",
       "11             2             6              2              6   \n",
       "12             1             4              1              4   \n",
       "13             2             5              2              5   \n",
       "14             0             5              0              5   \n",
       "15             1             5              1              5   \n",
       "16             0             4              0              4   \n",
       "17             2             4              2              4   \n",
       "18             1             2              1              2   \n",
       "19             0             1              0              1   \n",
       "20             0             2              0              2   \n",
       "\n",
       "    Num Overlapping Examples  Joint Probability  \n",
       "0                        240           0.085714  \n",
       "1                        216           0.077143  \n",
       "2                        194           0.069286  \n",
       "3                        184           0.065714  \n",
       "4                        184           0.065714  \n",
       "5                        171           0.061071  \n",
       "6                        148           0.052857  \n",
       "7                        131           0.046786  \n",
       "8                        117           0.041786  \n",
       "9                        104           0.037143  \n",
       "10                        96           0.034286  \n",
       "11                        85           0.030357  \n",
       "12                        79           0.028214  \n",
       "13                        70           0.025000  \n",
       "14                        69           0.024643  \n",
       "15                        68           0.024286  \n",
       "16                        62           0.022143  \n",
       "17                        62           0.022143  \n",
       "18                        40           0.014286  \n",
       "19                        35           0.012500  \n",
       "20                        28           0.010000  "
      ]
     },
     "metadata": {},
     "output_type": "display_data"
    },
    {
     "name": "stdout",
     "output_type": "stream",
     "text": [
      "\n",
      " * Overall, about 85% (2,383 of the 2,800) labels in your dataset have potential issues.\n",
      " ** The overall label health score for this dataset is: 0.15.\n",
      "\n",
      "Generated with <3 from Cleanlab.\n",
      "\n"
     ]
    },
    {
     "data": {
      "text/plain": [
       "{'overall_label_health_score': 0.1489285714285714,\n",
       " 'joint': array([[0.00785714, 0.00607143, 0.00428571, 0.05964286, 0.015     ,\n",
       "         0.0175    , 0.03142857],\n",
       "        [0.00642857, 0.00892857, 0.00785714, 0.05571429, 0.02071429,\n",
       "         0.0175    , 0.02928571],\n",
       "        [0.00571429, 0.00642857, 0.0025    , 0.06214286, 0.01607143,\n",
       "         0.01964286, 0.02607143],\n",
       "        [0.00607143, 0.00535714, 0.00357143, 0.05785714, 0.02071429,\n",
       "         0.01285714, 0.03107143],\n",
       "        [0.00714286, 0.0075    , 0.00607143, 0.05642857, 0.02142857,\n",
       "         0.01392857, 0.0325    ],\n",
       "        [0.00714286, 0.00678571, 0.00535714, 0.05642857, 0.02785714,\n",
       "         0.015     , 0.03107143],\n",
       "        [0.00571429, 0.005     , 0.00428571, 0.05464286, 0.02035714,\n",
       "         0.01571429, 0.03535714]]),\n",
       " 'classes_by_label_quality':    Class Name  Class Index  Label Issues  Inverse Label Issues  Label Noise  \\\n",
       " 0           2            2           381                    88     0.981959   \n",
       " 1           0            0           375                   107     0.944584   \n",
       " 2           1            1           385                   104     0.939024   \n",
       " 3           5            5           377                   272     0.899761   \n",
       " 4           4            4           346                   338     0.852217   \n",
       " 5           6            6           296                   508     0.749367   \n",
       " 6           3            3           223                   966     0.579221   \n",
       " \n",
       "    Inverse Label Noise  Label Quality Score  \n",
       " 0             0.926316             0.018041  \n",
       " 1             0.829457             0.055416  \n",
       " 2             0.806202             0.060976  \n",
       " 3             0.866242             0.100239  \n",
       " 4             0.849246             0.147783  \n",
       " 5             0.836903             0.250633  \n",
       " 6             0.856383             0.420779  ,\n",
       " 'overlapping_classes':     Class Name A  Class Name B  Class Index A  Class Index B  \\\n",
       " 0              3             6              3              6   \n",
       " 1              3             4              3              4   \n",
       " 2              3             5              3              5   \n",
       " 3              2             3              2              3   \n",
       " 4              0             3              0              3   \n",
       " 5              1             3              1              3   \n",
       " 6              4             6              4              6   \n",
       " 7              5             6              5              6   \n",
       " 8              4             5              4              5   \n",
       " 9              0             6              0              6   \n",
       " 10             1             6              1              6   \n",
       " 11             2             6              2              6   \n",
       " 12             1             4              1              4   \n",
       " 13             2             5              2              5   \n",
       " 14             0             5              0              5   \n",
       " 15             1             5              1              5   \n",
       " 16             0             4              0              4   \n",
       " 17             2             4              2              4   \n",
       " 18             1             2              1              2   \n",
       " 19             0             1              0              1   \n",
       " 20             0             2              0              2   \n",
       " \n",
       "     Num Overlapping Examples  Joint Probability  \n",
       " 0                        240           0.085714  \n",
       " 1                        216           0.077143  \n",
       " 2                        194           0.069286  \n",
       " 3                        184           0.065714  \n",
       " 4                        184           0.065714  \n",
       " 5                        171           0.061071  \n",
       " 6                        148           0.052857  \n",
       " 7                        131           0.046786  \n",
       " 8                        117           0.041786  \n",
       " 9                        104           0.037143  \n",
       " 10                        96           0.034286  \n",
       " 11                        85           0.030357  \n",
       " 12                        79           0.028214  \n",
       " 13                        70           0.025000  \n",
       " 14                        69           0.024643  \n",
       " 15                        68           0.024286  \n",
       " 16                        62           0.022143  \n",
       " 17                        62           0.022143  \n",
       " 18                        40           0.014286  \n",
       " 19                        35           0.012500  \n",
       " 20                        28           0.010000  }"
      ]
     },
     "execution_count": 13,
     "metadata": {},
     "output_type": "execute_result"
    }
   ],
   "source": [
    "class_names=[0,1,2,3,4,5,6]\n",
    "health_summary(df_train['target'], train_pred_probs, class_names=class_names)"
   ]
  }
 ],
 "metadata": {
  "kernelspec": {
   "display_name": "base",
   "language": "python",
   "name": "python3"
  },
  "language_info": {
   "codemirror_mode": {
    "name": "ipython",
    "version": 3
   },
   "file_extension": ".py",
   "mimetype": "text/x-python",
   "name": "python",
   "nbconvert_exporter": "python",
   "pygments_lexer": "ipython3",
   "version": "3.10.13"
  }
 },
 "nbformat": 4,
 "nbformat_minor": 2
}
