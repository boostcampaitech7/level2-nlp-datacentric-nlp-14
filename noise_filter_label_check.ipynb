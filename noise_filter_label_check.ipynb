{
 "cells": [
  {
   "cell_type": "code",
   "execution_count": null,
   "metadata": {},
   "outputs": [
    {
     "name": "stderr",
     "output_type": "stream",
     "text": [
      "/data/ephemeral/eyeol/.local/share/virtualenvs/data-centric-0i6SbDDw/lib/python3.10/site-packages/tqdm/auto.py:21: TqdmWarning: IProgress not found. Please update jupyter and ipywidgets. See https://ipywidgets.readthedocs.io/en/stable/user_install.html\n",
      "  from .autonotebook import tqdm as notebook_tqdm\n"
     ]
    }
   ],
   "source": [
    "import random\n",
    "import re\n",
    "\n",
    "import numpy as np\n",
    "import pandas as pd\n",
    "import torch\n",
    "import torch.nn.functional as F\n",
    "from cleanlab.filter import find_label_issues\n",
    "from transformers import AutoModelForSequenceClassification, AutoTokenizer"
   ]
  },
  {
   "cell_type": "code",
   "execution_count": null,
   "metadata": {},
   "outputs": [],
   "source": [
    "SEED = 42\n",
    "\n",
    "\n",
    "def set_seed():\n",
    "    random.seed(SEED)\n",
    "    np.random.seed(SEED)\n",
    "    torch.manual_seed(SEED)\n",
    "    torch.cuda.manual_seed(SEED)\n",
    "    torch.cuda.manual_seed_all(SEED)\n",
    "\n",
    "\n",
    "set_seed()\n",
    "# 이 셀만 실행하면 시드 고정 됨"
   ]
  },
  {
   "cell_type": "code",
   "execution_count": null,
   "metadata": {},
   "outputs": [],
   "source": [
    "# CSV 파일을 Pandas 데이터프레임으로 로드\n",
    "df_train = pd.read_csv(\"data/train.csv\")  # 파일 경로에 맞게 수정"
   ]
  },
  {
   "cell_type": "markdown",
   "metadata": {},
   "source": [
    "---"
   ]
  },
  {
   "cell_type": "markdown",
   "metadata": {},
   "source": [
    "## 노이즈 데이터 필터링"
   ]
  },
  {
   "cell_type": "code",
   "execution_count": null,
   "metadata": {},
   "outputs": [],
   "source": [
    "# 특수문자 비율과 문자-특수문자 교차 빈도 계산 함수\n",
    "def is_noisy_text(text):\n",
    "    # 특수문자 비율\n",
    "    special_chars = re.findall(r\"[^\\w\\s]\", text)\n",
    "    special_char_ratio = len(special_chars) / len(text) if len(text) > 0 else 0\n",
    "\n",
    "    # 문자와 특수문자의 교차 빈도\n",
    "    cross_count = len(re.findall(r\"(\\w[^\\w\\s])|([^\\w\\s]\\w)\", text))\n",
    "\n",
    "    # 노이즈 기준: 특수문자 비율이 높고, 문자-특수문자 교차가 많은 경우\n",
    "    if special_char_ratio >= 0.1 and cross_count >= 3:\n",
    "        return True\n",
    "    else:\n",
    "        return False"
   ]
  },
  {
   "cell_type": "code",
   "execution_count": null,
   "metadata": {},
   "outputs": [],
   "source": [
    "# 두 번째 필터링 조건 (clean sample에서 남은 노이즈 제거)\n",
    "def secondary_noise_filter(text):\n",
    "    english_chars = re.findall(r\"[a-zA-Z]\", text)\n",
    "    special_chars = re.findall(r\"[^\\w\\s]\", text)\n",
    "    english_ratio = len(english_chars) / len(text) if len(text) > 0 else 0\n",
    "    special_char_ratio = len(special_chars) / len(text) if len(text) > 0 else 0\n",
    "    cross_count = len(re.findall(r\"(\\w[^\\w\\s])|([^\\w\\s]\\w)\", text))\n",
    "\n",
    "    # 영어 비율이 0.1 이상이거나 특수문자 비율이 0.1 이상이고, 교차 개수가 2 이상인 경우 노이즈로 간주\n",
    "    return (english_ratio >= 0.1 or special_char_ratio >= 0.1) and cross_count >= 3"
   ]
  },
  {
   "cell_type": "code",
   "execution_count": null,
   "metadata": {},
   "outputs": [],
   "source": [
    "# 첫 번째 필터링 수행\n",
    "df_train[\"is_noisy_initial\"] = df_train[\"text\"].apply(is_noisy_text)\n",
    "df_noisy_initial = df_train[df_train[\"is_noisy_initial\"] == True]\n",
    "df_clean_initial = df_train[df_train[\"is_noisy_initial\"] == False]"
   ]
  },
  {
   "cell_type": "code",
   "execution_count": null,
   "metadata": {},
   "outputs": [],
   "source": [
    "# 1차 필터링 결과 저장\n",
    "df_clean_initial.to_csv(\"data/filtered/clean_samples_v1.csv\", index=False, encoding=\"utf-8-sig\")\n",
    "df_noisy_initial.to_csv(\"data/filtered/noisy_samples_v1.csv\", index=False, encoding=\"utf-8-sig\")"
   ]
  },
  {
   "cell_type": "code",
   "execution_count": null,
   "metadata": {},
   "outputs": [],
   "source": [
    "# 두 번째 필터링 수행 (clean sample에서 추가로 노이즈 제거)\n",
    "df_clean_initial[\"is_noisy_secondary\"] = df_clean_initial[\"text\"].apply(secondary_noise_filter)\n",
    "df_noisy_secondary = df_clean_initial[df_clean_initial[\"is_noisy_secondary\"] == True]\n",
    "df_clean_final = df_clean_initial[df_clean_initial[\"is_noisy_secondary\"] == False]"
   ]
  },
  {
   "cell_type": "code",
   "execution_count": null,
   "metadata": {},
   "outputs": [
    {
     "name": "stdout",
     "output_type": "stream",
     "text": [
      "첫 번째 필터링 후 노이즈 샘플 수: 1060\n",
      "첫 번째 필터링 후 clean 샘플 수: 1740\n",
      "두 번째 필터링 후 추가된 노이즈 샘플 수: 56\n",
      "최종 clean 샘플 수: 1684\n"
     ]
    }
   ],
   "source": [
    "# 결과 확인\n",
    "print(\"첫 번째 필터링 후 노이즈 샘플 수:\", len(df_noisy_initial))\n",
    "print(\"첫 번째 필터링 후 clean 샘플 수:\", len(df_clean_initial))\n",
    "print(\"두 번째 필터링 후 추가된 노이즈 샘플 수:\", len(df_noisy_secondary))\n",
    "print(\"최종 clean 샘플 수:\", len(df_clean_final))"
   ]
  },
  {
   "cell_type": "code",
   "execution_count": null,
   "metadata": {},
   "outputs": [],
   "source": [
    "# 2차 필터링 결과 저장\n",
    "df_clean_final.to_csv(\"data/filtered/clean_samples_v2.csv\", index=False, encoding=\"utf-8-sig\")\n",
    "df_noisy_secondary.to_csv(\"data/filtered/noisy_samples_v2.csv\", index=False, encoding=\"utf-8-sig\")"
   ]
  },
  {
   "cell_type": "markdown",
   "metadata": {},
   "source": [
    "---"
   ]
  },
  {
   "cell_type": "markdown",
   "metadata": {},
   "source": [
    "## 라벨 에러 탐지"
   ]
  },
  {
   "cell_type": "code",
   "execution_count": null,
   "metadata": {},
   "outputs": [],
   "source": [
    "df = df_clean_final"
   ]
  },
  {
   "cell_type": "code",
   "execution_count": null,
   "metadata": {},
   "outputs": [],
   "source": [
    "# 텍스트와 타겟 열 추출\n",
    "texts = df[\"text\"].tolist()  # 텍스트 데이터를 리스트로 변환\n",
    "labels = df[\"target\"].tolist()  # 라벨 데이터를 리스트로 변환"
   ]
  },
  {
   "cell_type": "markdown",
   "metadata": {},
   "source": [
    "### 사용하는 모델\n",
    "- klue/bert-base\n",
    "- klue/roberta-large\n",
    "- FacebookAI/xlm-roberta-large\n",
    "- monologg/koelectra-base-v3-discriminator"
   ]
  },
  {
   "cell_type": "code",
   "execution_count": null,
   "metadata": {},
   "outputs": [
    {
     "name": "stderr",
     "output_type": "stream",
     "text": [
      "Some weights of BertForSequenceClassification were not initialized from the model checkpoint at klue/bert-base and are newly initialized: ['classifier.bias', 'classifier.weight']\n",
      "You should probably TRAIN this model on a down-stream task to be able to use it for predictions and inference.\n"
     ]
    }
   ],
   "source": [
    "# 모델과 토크나이저 로드\n",
    "model_name = \"klue/bert-base\"\n",
    "tokenizer = AutoTokenizer.from_pretrained(model_name)\n",
    "model = AutoModelForSequenceClassification.from_pretrained(model_name, num_labels=7)  # 라벨 개수에 맞게 설정"
   ]
  },
  {
   "cell_type": "code",
   "execution_count": null,
   "metadata": {},
   "outputs": [],
   "source": [
    "# 텍스트 데이터 토큰화\n",
    "inputs = tokenizer(texts, return_tensors=\"pt\", padding=True, truncation=True)"
   ]
  },
  {
   "cell_type": "markdown",
   "metadata": {},
   "source": [
    "#### transformer 계열 모델을 통한 주제 분류"
   ]
  },
  {
   "cell_type": "code",
   "execution_count": null,
   "metadata": {},
   "outputs": [],
   "source": [
    "# 예측 수행 및 확률 계산\n",
    "with torch.no_grad():\n",
    "    outputs = model(**inputs)\n",
    "    logits = outputs.logits\n",
    "\n",
    "train_pred_probs = F.softmax(logits, dim=1).numpy()  # 예측 확률"
   ]
  },
  {
   "cell_type": "code",
   "execution_count": null,
   "metadata": {},
   "outputs": [
    {
     "data": {
      "text/plain": [
       "(1684, 7)"
      ]
     },
     "execution_count": 16,
     "metadata": {},
     "output_type": "execute_result"
    }
   ],
   "source": [
    "# train_pred_probs 형태 확인\n",
    "train_pred_probs.shape\n",
    "\n",
    "# (clean_data 개수, 7)이 나오면 정상"
   ]
  },
  {
   "cell_type": "markdown",
   "metadata": {},
   "source": [
    "#### 모델이 분류한 라벨을 기준으로 라벨 에러 탐지"
   ]
  },
  {
   "cell_type": "code",
   "execution_count": null,
   "metadata": {},
   "outputs": [
    {
     "name": "stderr",
     "output_type": "stream",
     "text": [
      "huggingface/tokenizers: The current process just got forked, after parallelism has already been used. Disabling parallelism to avoid deadlocks...\n",
      "To disable this warning, you can either:\n",
      "\t- Avoid using `tokenizers` before the fork if possible\n",
      "\t- Explicitly set the environment variable TOKENIZERS_PARALLELISM=(true | false)\n",
      "huggingface/tokenizers: The current process just got forked, after parallelism has already been used. Disabling parallelism to avoid deadlocks...\n",
      "To disable this warning, you can either:\n",
      "\t- Avoid using `tokenizers` before the fork if possible\n",
      "\t- Explicitly set the environment variable TOKENIZERS_PARALLELISM=(true | false)\n"
     ]
    },
    {
     "name": "stderr",
     "output_type": "stream",
     "text": [
      "huggingface/tokenizers: The current process just got forked, after parallelism has already been used. Disabling parallelism to avoid deadlocks...\n",
      "To disable this warning, you can either:\n",
      "\t- Avoid using `tokenizers` before the fork if possible\n",
      "\t- Explicitly set the environment variable TOKENIZERS_PARALLELISM=(true | false)\n",
      "huggingface/tokenizers: The current process just got forked, after parallelism has already been used. Disabling parallelism to avoid deadlocks...\n",
      "To disable this warning, you can either:\n",
      "\t- Avoid using `tokenizers` before the fork if possible\n",
      "\t- Explicitly set the environment variable TOKENIZERS_PARALLELISM=(true | false)\n",
      "huggingface/tokenizers: The current process just got forked, after parallelism has already been used. Disabling parallelism to avoid deadlocks...\n",
      "To disable this warning, you can either:\n",
      "\t- Avoid using `tokenizers` before the fork if possible\n",
      "\t- Explicitly set the environment variable TOKENIZERS_PARALLELISM=(true | false)\n",
      "huggingface/tokenizers: The current process just got forked, after parallelism has already been used. Disabling parallelism to avoid deadlocks...\n",
      "To disable this warning, you can either:\n",
      "\t- Avoid using `tokenizers` before the fork if possible\n",
      "\t- Explicitly set the environment variable TOKENIZERS_PARALLELISM=(true | false)\n",
      "huggingface/tokenizers: The current process just got forked, after parallelism has already been used. Disabling parallelism to avoid deadlocks...\n",
      "To disable this warning, you can either:\n",
      "\t- Avoid using `tokenizers` before the fork if possible\n",
      "\t- Explicitly set the environment variable TOKENIZERS_PARALLELISM=(true | false)\n",
      "huggingface/tokenizers: The current process just got forked, after parallelism has already been used. Disabling parallelism to avoid deadlocks...\n",
      "To disable this warning, you can either:\n",
      "\t- Avoid using `tokenizers` before the fork if possible\n",
      "\t- Explicitly set the environment variable TOKENIZERS_PARALLELISM=(true | false)\n"
     ]
    }
   ],
   "source": [
    "# Cleanlab으로 라벨 오류 탐지\n",
    "ordered_label_issues = find_label_issues(\n",
    "    labels=labels, pred_probs=train_pred_probs, return_indices_ranked_by=\"self_confidence\"\n",
    ")"
   ]
  },
  {
   "cell_type": "code",
   "execution_count": null,
   "metadata": {},
   "outputs": [
    {
     "data": {
      "text/plain": [
       "855"
      ]
     },
     "execution_count": 18,
     "metadata": {},
     "output_type": "execute_result"
    }
   ],
   "source": [
    "# 라벨에 이슈가 있는 데이터 개수\n",
    "len(ordered_label_issues)"
   ]
  },
  {
   "cell_type": "markdown",
   "metadata": {},
   "source": [
    "#### 정상 데이터 추출"
   ]
  },
  {
   "cell_type": "code",
   "execution_count": null,
   "metadata": {},
   "outputs": [],
   "source": [
    "# 전체 인덱스에서 라벨 이슈 인덱스를 제외해 정상 데이터 인덱스만 추출\n",
    "all_indices = set(range(len(df)))\n",
    "normal_indices = list(all_indices - set(ordered_label_issues))"
   ]
  },
  {
   "cell_type": "code",
   "execution_count": null,
   "metadata": {},
   "outputs": [],
   "source": [
    "# 정상 데이터만 따로 추출\n",
    "df_no_issues = df.iloc[normal_indices]"
   ]
  },
  {
   "cell_type": "code",
   "execution_count": null,
   "metadata": {},
   "outputs": [
    {
     "name": "stdout",
     "output_type": "stream",
     "text": [
      "정상 라벨 데이터 개수: 829\n"
     ]
    },
    {
     "data": {
      "text/html": [
       "<div>\n",
       "<style scoped>\n",
       "    .dataframe tbody tr th:only-of-type {\n",
       "        vertical-align: middle;\n",
       "    }\n",
       "\n",
       "    .dataframe tbody tr th {\n",
       "        vertical-align: top;\n",
       "    }\n",
       "\n",
       "    .dataframe thead th {\n",
       "        text-align: right;\n",
       "    }\n",
       "</style>\n",
       "<table border=\"1\" class=\"dataframe\">\n",
       "  <thead>\n",
       "    <tr style=\"text-align: right;\">\n",
       "      <th></th>\n",
       "      <th>ID</th>\n",
       "      <th>text</th>\n",
       "      <th>target</th>\n",
       "      <th>is_noisy_initial</th>\n",
       "      <th>is_noisy_secondary</th>\n",
       "    </tr>\n",
       "  </thead>\n",
       "  <tbody>\n",
       "    <tr>\n",
       "      <th>4</th>\n",
       "      <td>ynat-v1_train_00004</td>\n",
       "      <td>pI美대선I앞두고 R2fr단 발] $비해 감시 강화</td>\n",
       "      <td>6</td>\n",
       "      <td>False</td>\n",
       "      <td>False</td>\n",
       "    </tr>\n",
       "    <tr>\n",
       "      <th>5</th>\n",
       "      <td>ynat-v1_train_00005</td>\n",
       "      <td>美성인 6명 중 1명꼴 배우자·연인 빚 떠안은 적 있다</td>\n",
       "      <td>0</td>\n",
       "      <td>False</td>\n",
       "      <td>False</td>\n",
       "    </tr>\n",
       "    <tr>\n",
       "      <th>6</th>\n",
       "      <td>ynat-v1_train_00006</td>\n",
       "      <td>프로야구~롯TKIAs광주 경기 y천취소</td>\n",
       "      <td>1</td>\n",
       "      <td>False</td>\n",
       "      <td>False</td>\n",
       "    </tr>\n",
       "    <tr>\n",
       "      <th>9</th>\n",
       "      <td>ynat-v1_train_00009</td>\n",
       "      <td>듀얼심 아이폰 하반기 출시설 솔솔…알뜰폰 기대감</td>\n",
       "      <td>4</td>\n",
       "      <td>False</td>\n",
       "      <td>False</td>\n",
       "    </tr>\n",
       "    <tr>\n",
       "      <th>12</th>\n",
       "      <td>ynat-v1_train_00012</td>\n",
       "      <td>황총리 각 부처 비상대비태세 철저히 강구해야</td>\n",
       "      <td>2</td>\n",
       "      <td>False</td>\n",
       "      <td>False</td>\n",
       "    </tr>\n",
       "  </tbody>\n",
       "</table>\n",
       "</div>"
      ],
      "text/plain": [
       "                     ID                            text  target  \\\n",
       "4   ynat-v1_train_00004    pI美대선I앞두고 R2fr단 발] $비해 감시 강화       6   \n",
       "5   ynat-v1_train_00005  美성인 6명 중 1명꼴 배우자·연인 빚 떠안은 적 있다       0   \n",
       "6   ynat-v1_train_00006           프로야구~롯TKIAs광주 경기 y천취소       1   \n",
       "9   ynat-v1_train_00009      듀얼심 아이폰 하반기 출시설 솔솔…알뜰폰 기대감       4   \n",
       "12  ynat-v1_train_00012        황총리 각 부처 비상대비태세 철저히 강구해야       2   \n",
       "\n",
       "    is_noisy_initial  is_noisy_secondary  \n",
       "4              False               False  \n",
       "5              False               False  \n",
       "6              False               False  \n",
       "9              False               False  \n",
       "12             False               False  "
      ]
     },
     "execution_count": 25,
     "metadata": {},
     "output_type": "execute_result"
    }
   ],
   "source": [
    "# 정상 데이터셋 확인\n",
    "print(f\"정상 라벨 데이터 개수: {len(df_no_issues)}\")\n",
    "df_no_issues.head()"
   ]
  },
  {
   "cell_type": "code",
   "execution_count": null,
   "metadata": {},
   "outputs": [],
   "source": [
    "# target 컬럼 기준으로 정렬\n",
    "df_no_issues_sorted = df_no_issues.sort_values(by=\"target\").reset_index(drop=True)\n",
    "\n",
    "# 저장\n",
    "df_no_issues_sorted.to_csv(\"data/filtered_2/no_label_errors_v1.csv\", index=False, encoding=\"utf-8-sig\")"
   ]
  },
  {
   "cell_type": "markdown",
   "metadata": {},
   "source": [
    "#### 비정상(라벨 이슈 있는) 데이터 확인"
   ]
  },
  {
   "cell_type": "code",
   "execution_count": null,
   "metadata": {},
   "outputs": [
    {
     "name": "stdout",
     "output_type": "stream",
     "text": [
      "ID: ynat-v1_train_01459\n",
      "input text: 악성\"드[감$kIoTR기기 saeS #료법E3려j`\n",
      "label: 4\n",
      "-------------------\n",
      "ID: ynat-v1_train_01606\n",
      "input text: FJO로M딜라(P 인수]추진E실d9시작\n",
      "label: 5\n",
      "-------------------\n",
      "ID: ynat-v1_train_00809\n",
      "input text: &r A농축 >라늄 저장한4 U+…핵yg3 발 :\n",
      "label: 6\n",
      "-------------------\n",
      "ID: ynat-v1_train_00494\n",
      "input text: 대형서점엔=없uDtOJ네yC과 손}는 b판사들\n",
      "label: 0\n",
      "-------------------\n",
      "ID: ynat-v1_train_00982\n",
      "input text: 회전 카메라 탑재한 갤럭시A80 SKT 단독출시…59만9천500원\n",
      "label: 4\n",
      "-------------------\n",
      "ID: ynat-v1_train_01369\n",
      "input text: 화천A마토축제 성,리 폐a|13C; 찾아 2억 판_\n",
      "label: 0\n",
      "-------------------\n",
      "ID: ynat-v1_train_00481\n",
      "input text: 알뜰폰 헬로모바일 청소년 요금 반값 할인\n",
      "label: 3\n",
      "-------------------\n",
      "ID: ynat-v1_train_01315\n",
      "input text: 김ChK}X리당*C朴대통6+탄핵L 9  `장설 y속보\n",
      "label: 2\n",
      "-------------------\n",
      "ID: ynat-v1_train_00983\n",
      "input text: @U·i 9일 정상회의…북핵·무역·투자z경=협력 등 f의\n",
      "label: 6\n",
      "-------------------\n",
      "ID: ynat-v1_train_01018\n",
      "input text: 5산 초Q학생 3명-9가RE진…김:+Th접b8P치원q'-#확(\n",
      "label: 3\n",
      "-------------------\n"
     ]
    }
   ],
   "source": [
    "# 라벨 오류가 의심되는 샘플 출력\n",
    "\n",
    "# 원하는 범위의 샘플을 출력하세요\n",
    "head_issues = ordered_label_issues[0:10]\n",
    "for issue in head_issues:\n",
    "    print(\"ID:\", df_train.iloc[issue][\"ID\"])\n",
    "    print(\"input text:\", df_train.iloc[issue][\"text\"])\n",
    "    print(\"label:\", df_train.iloc[issue][\"target\"])\n",
    "    print(\"-------------------\")"
   ]
  },
  {
   "cell_type": "markdown",
   "metadata": {},
   "source": [
    "#### health_summary 통한 진단"
   ]
  },
  {
   "cell_type": "code",
   "execution_count": null,
   "metadata": {},
   "outputs": [],
   "source": [
    "from cleanlab.dataset import health_summary"
   ]
  },
  {
   "cell_type": "code",
   "execution_count": null,
   "metadata": {},
   "outputs": [
    {
     "name": "stdout",
     "output_type": "stream",
     "text": [
      "----------------------------------------------------------\n",
      "|  Generating a Cleanlab Dataset Health Summary          |\n",
      "|   for your dataset with 1,684 examples and 7 classes.  |\n",
      "|  Note, Cleanlab is not a medical doctor... yet.        |\n",
      "----------------------------------------------------------\n",
      "\n",
      "Overall Class Quality and Noise across your dataset (below)\n",
      "------------------------------------------------------------ \n",
      "\n"
     ]
    },
    {
     "data": {
      "text/html": [
       "<div>\n",
       "<style scoped>\n",
       "    .dataframe tbody tr th:only-of-type {\n",
       "        vertical-align: middle;\n",
       "    }\n",
       "\n",
       "    .dataframe tbody tr th {\n",
       "        vertical-align: top;\n",
       "    }\n",
       "\n",
       "    .dataframe thead th {\n",
       "        text-align: right;\n",
       "    }\n",
       "</style>\n",
       "<table border=\"1\" class=\"dataframe\">\n",
       "  <thead>\n",
       "    <tr style=\"text-align: right;\">\n",
       "      <th></th>\n",
       "      <th>Class Name</th>\n",
       "      <th>Class Index</th>\n",
       "      <th>Label Issues</th>\n",
       "      <th>Inverse Label Issues</th>\n",
       "      <th>Label Noise</th>\n",
       "      <th>Inverse Label Noise</th>\n",
       "      <th>Label Quality Score</th>\n",
       "    </tr>\n",
       "  </thead>\n",
       "  <tbody>\n",
       "    <tr>\n",
       "      <th>0</th>\n",
       "      <td>2</td>\n",
       "      <td>2</td>\n",
       "      <td>221</td>\n",
       "      <td>54</td>\n",
       "      <td>0.977876</td>\n",
       "      <td>0.915254</td>\n",
       "      <td>0.022124</td>\n",
       "    </tr>\n",
       "    <tr>\n",
       "      <th>1</th>\n",
       "      <td>0</td>\n",
       "      <td>0</td>\n",
       "      <td>225</td>\n",
       "      <td>85</td>\n",
       "      <td>0.949367</td>\n",
       "      <td>0.876289</td>\n",
       "      <td>0.050633</td>\n",
       "    </tr>\n",
       "    <tr>\n",
       "      <th>2</th>\n",
       "      <td>1</td>\n",
       "      <td>1</td>\n",
       "      <td>219</td>\n",
       "      <td>91</td>\n",
       "      <td>0.908714</td>\n",
       "      <td>0.805310</td>\n",
       "      <td>0.091286</td>\n",
       "    </tr>\n",
       "    <tr>\n",
       "      <th>3</th>\n",
       "      <td>5</td>\n",
       "      <td>5</td>\n",
       "      <td>228</td>\n",
       "      <td>214</td>\n",
       "      <td>0.857143</td>\n",
       "      <td>0.849206</td>\n",
       "      <td>0.142857</td>\n",
       "    </tr>\n",
       "    <tr>\n",
       "      <th>4</th>\n",
       "      <td>4</td>\n",
       "      <td>4</td>\n",
       "      <td>204</td>\n",
       "      <td>243</td>\n",
       "      <td>0.836066</td>\n",
       "      <td>0.858657</td>\n",
       "      <td>0.163934</td>\n",
       "    </tr>\n",
       "    <tr>\n",
       "      <th>5</th>\n",
       "      <td>3</td>\n",
       "      <td>3</td>\n",
       "      <td>184</td>\n",
       "      <td>296</td>\n",
       "      <td>0.769874</td>\n",
       "      <td>0.843305</td>\n",
       "      <td>0.230126</td>\n",
       "    </tr>\n",
       "    <tr>\n",
       "      <th>6</th>\n",
       "      <td>6</td>\n",
       "      <td>6</td>\n",
       "      <td>143</td>\n",
       "      <td>441</td>\n",
       "      <td>0.619048</td>\n",
       "      <td>0.833648</td>\n",
       "      <td>0.380952</td>\n",
       "    </tr>\n",
       "  </tbody>\n",
       "</table>\n",
       "</div>"
      ],
      "text/plain": [
       "   Class Name  Class Index  Label Issues  Inverse Label Issues  Label Noise  \\\n",
       "0           2            2           221                    54     0.977876   \n",
       "1           0            0           225                    85     0.949367   \n",
       "2           1            1           219                    91     0.908714   \n",
       "3           5            5           228                   214     0.857143   \n",
       "4           4            4           204                   243     0.836066   \n",
       "5           3            3           184                   296     0.769874   \n",
       "6           6            6           143                   441     0.619048   \n",
       "\n",
       "   Inverse Label Noise  Label Quality Score  \n",
       "0             0.915254             0.022124  \n",
       "1             0.876289             0.050633  \n",
       "2             0.805310             0.091286  \n",
       "3             0.849206             0.142857  \n",
       "4             0.858657             0.163934  \n",
       "5             0.843305             0.230126  \n",
       "6             0.833648             0.380952  "
      ]
     },
     "metadata": {},
     "output_type": "display_data"
    },
    {
     "name": "stdout",
     "output_type": "stream",
     "text": [
      "\n",
      "Class Overlap. In some cases, you may want to merge classes in the top rows (below)\n",
      "-----------------------------------------------------------------------------------\n",
      "\n"
     ]
    },
    {
     "data": {
      "text/html": [
       "<div>\n",
       "<style scoped>\n",
       "    .dataframe tbody tr th:only-of-type {\n",
       "        vertical-align: middle;\n",
       "    }\n",
       "\n",
       "    .dataframe tbody tr th {\n",
       "        vertical-align: top;\n",
       "    }\n",
       "\n",
       "    .dataframe thead th {\n",
       "        text-align: right;\n",
       "    }\n",
       "</style>\n",
       "<table border=\"1\" class=\"dataframe\">\n",
       "  <thead>\n",
       "    <tr style=\"text-align: right;\">\n",
       "      <th></th>\n",
       "      <th>Class Name A</th>\n",
       "      <th>Class Name B</th>\n",
       "      <th>Class Index A</th>\n",
       "      <th>Class Index B</th>\n",
       "      <th>Num Overlapping Examples</th>\n",
       "      <th>Joint Probability</th>\n",
       "    </tr>\n",
       "  </thead>\n",
       "  <tbody>\n",
       "    <tr>\n",
       "      <th>0</th>\n",
       "      <td>3</td>\n",
       "      <td>6</td>\n",
       "      <td>3</td>\n",
       "      <td>6</td>\n",
       "      <td>117</td>\n",
       "      <td>0.069477</td>\n",
       "    </tr>\n",
       "    <tr>\n",
       "      <th>1</th>\n",
       "      <td>4</td>\n",
       "      <td>6</td>\n",
       "      <td>4</td>\n",
       "      <td>6</td>\n",
       "      <td>114</td>\n",
       "      <td>0.067696</td>\n",
       "    </tr>\n",
       "    <tr>\n",
       "      <th>2</th>\n",
       "      <td>5</td>\n",
       "      <td>6</td>\n",
       "      <td>5</td>\n",
       "      <td>6</td>\n",
       "      <td>109</td>\n",
       "      <td>0.064727</td>\n",
       "    </tr>\n",
       "    <tr>\n",
       "      <th>3</th>\n",
       "      <td>3</td>\n",
       "      <td>4</td>\n",
       "      <td>3</td>\n",
       "      <td>4</td>\n",
       "      <td>100</td>\n",
       "      <td>0.059382</td>\n",
       "    </tr>\n",
       "    <tr>\n",
       "      <th>4</th>\n",
       "      <td>0</td>\n",
       "      <td>6</td>\n",
       "      <td>0</td>\n",
       "      <td>6</td>\n",
       "      <td>90</td>\n",
       "      <td>0.053444</td>\n",
       "    </tr>\n",
       "    <tr>\n",
       "      <th>5</th>\n",
       "      <td>1</td>\n",
       "      <td>6</td>\n",
       "      <td>1</td>\n",
       "      <td>6</td>\n",
       "      <td>84</td>\n",
       "      <td>0.049881</td>\n",
       "    </tr>\n",
       "    <tr>\n",
       "      <th>6</th>\n",
       "      <td>3</td>\n",
       "      <td>5</td>\n",
       "      <td>3</td>\n",
       "      <td>5</td>\n",
       "      <td>83</td>\n",
       "      <td>0.049287</td>\n",
       "    </tr>\n",
       "    <tr>\n",
       "      <th>7</th>\n",
       "      <td>4</td>\n",
       "      <td>5</td>\n",
       "      <td>4</td>\n",
       "      <td>5</td>\n",
       "      <td>79</td>\n",
       "      <td>0.046912</td>\n",
       "    </tr>\n",
       "    <tr>\n",
       "      <th>8</th>\n",
       "      <td>0</td>\n",
       "      <td>3</td>\n",
       "      <td>0</td>\n",
       "      <td>3</td>\n",
       "      <td>71</td>\n",
       "      <td>0.042162</td>\n",
       "    </tr>\n",
       "    <tr>\n",
       "      <th>9</th>\n",
       "      <td>2</td>\n",
       "      <td>6</td>\n",
       "      <td>2</td>\n",
       "      <td>6</td>\n",
       "      <td>70</td>\n",
       "      <td>0.041568</td>\n",
       "    </tr>\n",
       "    <tr>\n",
       "      <th>10</th>\n",
       "      <td>1</td>\n",
       "      <td>4</td>\n",
       "      <td>1</td>\n",
       "      <td>4</td>\n",
       "      <td>67</td>\n",
       "      <td>0.039786</td>\n",
       "    </tr>\n",
       "    <tr>\n",
       "      <th>11</th>\n",
       "      <td>2</td>\n",
       "      <td>3</td>\n",
       "      <td>2</td>\n",
       "      <td>3</td>\n",
       "      <td>61</td>\n",
       "      <td>0.036223</td>\n",
       "    </tr>\n",
       "    <tr>\n",
       "      <th>12</th>\n",
       "      <td>0</td>\n",
       "      <td>5</td>\n",
       "      <td>0</td>\n",
       "      <td>5</td>\n",
       "      <td>60</td>\n",
       "      <td>0.035629</td>\n",
       "    </tr>\n",
       "    <tr>\n",
       "      <th>13</th>\n",
       "      <td>2</td>\n",
       "      <td>5</td>\n",
       "      <td>2</td>\n",
       "      <td>5</td>\n",
       "      <td>56</td>\n",
       "      <td>0.033254</td>\n",
       "    </tr>\n",
       "    <tr>\n",
       "      <th>14</th>\n",
       "      <td>1</td>\n",
       "      <td>5</td>\n",
       "      <td>1</td>\n",
       "      <td>5</td>\n",
       "      <td>55</td>\n",
       "      <td>0.032660</td>\n",
       "    </tr>\n",
       "    <tr>\n",
       "      <th>15</th>\n",
       "      <td>1</td>\n",
       "      <td>3</td>\n",
       "      <td>1</td>\n",
       "      <td>3</td>\n",
       "      <td>48</td>\n",
       "      <td>0.028504</td>\n",
       "    </tr>\n",
       "    <tr>\n",
       "      <th>16</th>\n",
       "      <td>0</td>\n",
       "      <td>4</td>\n",
       "      <td>0</td>\n",
       "      <td>4</td>\n",
       "      <td>44</td>\n",
       "      <td>0.026128</td>\n",
       "    </tr>\n",
       "    <tr>\n",
       "      <th>17</th>\n",
       "      <td>2</td>\n",
       "      <td>4</td>\n",
       "      <td>2</td>\n",
       "      <td>4</td>\n",
       "      <td>43</td>\n",
       "      <td>0.025534</td>\n",
       "    </tr>\n",
       "    <tr>\n",
       "      <th>18</th>\n",
       "      <td>0</td>\n",
       "      <td>1</td>\n",
       "      <td>0</td>\n",
       "      <td>1</td>\n",
       "      <td>28</td>\n",
       "      <td>0.016627</td>\n",
       "    </tr>\n",
       "    <tr>\n",
       "      <th>19</th>\n",
       "      <td>1</td>\n",
       "      <td>2</td>\n",
       "      <td>1</td>\n",
       "      <td>2</td>\n",
       "      <td>28</td>\n",
       "      <td>0.016627</td>\n",
       "    </tr>\n",
       "    <tr>\n",
       "      <th>20</th>\n",
       "      <td>0</td>\n",
       "      <td>2</td>\n",
       "      <td>0</td>\n",
       "      <td>2</td>\n",
       "      <td>17</td>\n",
       "      <td>0.010095</td>\n",
       "    </tr>\n",
       "  </tbody>\n",
       "</table>\n",
       "</div>"
      ],
      "text/plain": [
       "    Class Name A  Class Name B  Class Index A  Class Index B  \\\n",
       "0              3             6              3              6   \n",
       "1              4             6              4              6   \n",
       "2              5             6              5              6   \n",
       "3              3             4              3              4   \n",
       "4              0             6              0              6   \n",
       "5              1             6              1              6   \n",
       "6              3             5              3              5   \n",
       "7              4             5              4              5   \n",
       "8              0             3              0              3   \n",
       "9              2             6              2              6   \n",
       "10             1             4              1              4   \n",
       "11             2             3              2              3   \n",
       "12             0             5              0              5   \n",
       "13             2             5              2              5   \n",
       "14             1             5              1              5   \n",
       "15             1             3              1              3   \n",
       "16             0             4              0              4   \n",
       "17             2             4              2              4   \n",
       "18             0             1              0              1   \n",
       "19             1             2              1              2   \n",
       "20             0             2              0              2   \n",
       "\n",
       "    Num Overlapping Examples  Joint Probability  \n",
       "0                        117           0.069477  \n",
       "1                        114           0.067696  \n",
       "2                        109           0.064727  \n",
       "3                        100           0.059382  \n",
       "4                         90           0.053444  \n",
       "5                         84           0.049881  \n",
       "6                         83           0.049287  \n",
       "7                         79           0.046912  \n",
       "8                         71           0.042162  \n",
       "9                         70           0.041568  \n",
       "10                        67           0.039786  \n",
       "11                        61           0.036223  \n",
       "12                        60           0.035629  \n",
       "13                        56           0.033254  \n",
       "14                        55           0.032660  \n",
       "15                        48           0.028504  \n",
       "16                        44           0.026128  \n",
       "17                        43           0.025534  \n",
       "18                        28           0.016627  \n",
       "19                        28           0.016627  \n",
       "20                        17           0.010095  "
      ]
     },
     "metadata": {},
     "output_type": "display_data"
    },
    {
     "name": "stdout",
     "output_type": "stream",
     "text": [
      "\n",
      " * Overall, about 85% (1,424 of the 1,684) labels in your dataset have potential issues.\n",
      " ** The overall label health score for this dataset is: 0.15.\n",
      "\n",
      "Generated with <3 from Cleanlab.\n",
      "\n"
     ]
    }
   ],
   "source": [
    "class_names = [0, 1, 2, 3, 4, 5, 6]\n",
    "\n",
    "summary_df = health_summary(df[\"target\"], train_pred_probs, class_names=class_names)"
   ]
  },
  {
   "cell_type": "code",
   "execution_count": null,
   "metadata": {},
   "outputs": [
    {
     "data": {
      "text/html": [
       "<div>\n",
       "<style scoped>\n",
       "    .dataframe tbody tr th:only-of-type {\n",
       "        vertical-align: middle;\n",
       "    }\n",
       "\n",
       "    .dataframe tbody tr th {\n",
       "        vertical-align: top;\n",
       "    }\n",
       "\n",
       "    .dataframe thead th {\n",
       "        text-align: right;\n",
       "    }\n",
       "</style>\n",
       "<table border=\"1\" class=\"dataframe\">\n",
       "  <thead>\n",
       "    <tr style=\"text-align: right;\">\n",
       "      <th></th>\n",
       "      <th>Class Name</th>\n",
       "      <th>Class Index</th>\n",
       "      <th>Label Issues</th>\n",
       "      <th>Inverse Label Issues</th>\n",
       "      <th>Label Noise</th>\n",
       "      <th>Inverse Label Noise</th>\n",
       "      <th>Label Quality Score</th>\n",
       "    </tr>\n",
       "  </thead>\n",
       "  <tbody>\n",
       "    <tr>\n",
       "      <th>0</th>\n",
       "      <td>2</td>\n",
       "      <td>2</td>\n",
       "      <td>221</td>\n",
       "      <td>54</td>\n",
       "      <td>0.977876</td>\n",
       "      <td>0.915254</td>\n",
       "      <td>0.022124</td>\n",
       "    </tr>\n",
       "    <tr>\n",
       "      <th>1</th>\n",
       "      <td>0</td>\n",
       "      <td>0</td>\n",
       "      <td>225</td>\n",
       "      <td>85</td>\n",
       "      <td>0.949367</td>\n",
       "      <td>0.876289</td>\n",
       "      <td>0.050633</td>\n",
       "    </tr>\n",
       "    <tr>\n",
       "      <th>2</th>\n",
       "      <td>1</td>\n",
       "      <td>1</td>\n",
       "      <td>219</td>\n",
       "      <td>91</td>\n",
       "      <td>0.908714</td>\n",
       "      <td>0.805310</td>\n",
       "      <td>0.091286</td>\n",
       "    </tr>\n",
       "    <tr>\n",
       "      <th>3</th>\n",
       "      <td>5</td>\n",
       "      <td>5</td>\n",
       "      <td>228</td>\n",
       "      <td>214</td>\n",
       "      <td>0.857143</td>\n",
       "      <td>0.849206</td>\n",
       "      <td>0.142857</td>\n",
       "    </tr>\n",
       "    <tr>\n",
       "      <th>4</th>\n",
       "      <td>4</td>\n",
       "      <td>4</td>\n",
       "      <td>204</td>\n",
       "      <td>243</td>\n",
       "      <td>0.836066</td>\n",
       "      <td>0.858657</td>\n",
       "      <td>0.163934</td>\n",
       "    </tr>\n",
       "    <tr>\n",
       "      <th>5</th>\n",
       "      <td>3</td>\n",
       "      <td>3</td>\n",
       "      <td>184</td>\n",
       "      <td>296</td>\n",
       "      <td>0.769874</td>\n",
       "      <td>0.843305</td>\n",
       "      <td>0.230126</td>\n",
       "    </tr>\n",
       "    <tr>\n",
       "      <th>6</th>\n",
       "      <td>6</td>\n",
       "      <td>6</td>\n",
       "      <td>143</td>\n",
       "      <td>441</td>\n",
       "      <td>0.619048</td>\n",
       "      <td>0.833648</td>\n",
       "      <td>0.380952</td>\n",
       "    </tr>\n",
       "  </tbody>\n",
       "</table>\n",
       "</div>"
      ],
      "text/plain": [
       "   Class Name  Class Index  Label Issues  Inverse Label Issues  Label Noise  \\\n",
       "0           2            2           221                    54     0.977876   \n",
       "1           0            0           225                    85     0.949367   \n",
       "2           1            1           219                    91     0.908714   \n",
       "3           5            5           228                   214     0.857143   \n",
       "4           4            4           204                   243     0.836066   \n",
       "5           3            3           184                   296     0.769874   \n",
       "6           6            6           143                   441     0.619048   \n",
       "\n",
       "   Inverse Label Noise  Label Quality Score  \n",
       "0             0.915254             0.022124  \n",
       "1             0.876289             0.050633  \n",
       "2             0.805310             0.091286  \n",
       "3             0.849206             0.142857  \n",
       "4             0.858657             0.163934  \n",
       "5             0.843305             0.230126  \n",
       "6             0.833648             0.380952  "
      ]
     },
     "execution_count": 33,
     "metadata": {},
     "output_type": "execute_result"
    }
   ],
   "source": [
    "summary_df[\"classes_by_label_quality\"]\n",
    "\n",
    "# 라벨별로 노이즈 정도와 퀄리티 스코어를 계산한 값입니다"
   ]
  }
 ],
 "metadata": {
  "kernelspec": {
   "display_name": "data-centric-0i6SbDDw",
   "language": "python",
   "name": "python3"
  },
  "language_info": {
   "codemirror_mode": {
    "name": "ipython",
    "version": 3
   },
   "file_extension": ".py",
   "mimetype": "text/x-python",
   "name": "python",
   "nbconvert_exporter": "python",
   "pygments_lexer": "ipython3",
   "version": "3.10.13"
  }
 },
 "nbformat": 4,
 "nbformat_minor": 2
}
