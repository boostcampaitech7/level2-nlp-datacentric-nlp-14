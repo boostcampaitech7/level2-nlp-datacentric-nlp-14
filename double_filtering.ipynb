{
 "cells": [
  {
   "cell_type": "code",
   "execution_count": null,
   "metadata": {},
   "outputs": [],
   "source": [
    "import re\n",
    "\n",
    "import pandas as pd"
   ]
  },
  {
   "cell_type": "code",
   "execution_count": null,
   "metadata": {},
   "outputs": [],
   "source": [
    "df = pd.read_csv(\"data/train_with_noise_ratio_1.csv\")"
   ]
  },
  {
   "cell_type": "markdown",
   "metadata": {},
   "source": [
    "### 추가로 처리해야할 샘플"
   ]
  },
  {
   "cell_type": "code",
   "execution_count": null,
   "metadata": {},
   "outputs": [],
   "source": [
    "# normal에 있는 노이즈\n",
    "in_clean_not_clean = [\n",
    "    1095,\n",
    "    2682,\n",
    "    1483,\n",
    "    1022,\n",
    "    370,\n",
    "    1161,\n",
    "    2732,\n",
    "    1554,\n",
    "    1307,\n",
    "    775,\n",
    "    949,\n",
    "    453,\n",
    "    2492,\n",
    "    116,\n",
    "    1009,\n",
    "    1608,\n",
    "    131,\n",
    "    895,\n",
    "    1616,\n",
    "    818,\n",
    "    2442,\n",
    "    1233,\n",
    "    804,\n",
    "    2648,\n",
    "]\n",
    "# noise에 있는 노말(클린)\n",
    "in_noisy_not_noisy = [\n",
    "    1027,\n",
    "    736,\n",
    "    746,\n",
    "    1847,\n",
    "    652,\n",
    "    2434,\n",
    "    1692,\n",
    "    2111,\n",
    "    1707,\n",
    "    1688,\n",
    "    2427,\n",
    "    2009,\n",
    "    2289,\n",
    "    1438,\n",
    "    2491,\n",
    "    853,\n",
    "    2139,\n",
    "    957,\n",
    "    2555,\n",
    "    1994,\n",
    "]"
   ]
  },
  {
   "cell_type": "code",
   "execution_count": null,
   "metadata": {},
   "outputs": [
    {
     "name": "stdout",
     "output_type": "stream",
     "text": [
      "24\n",
      "20\n"
     ]
    }
   ],
   "source": [
    "print(len(in_clean_not_clean))\n",
    "print(len(in_noisy_not_noisy))"
   ]
  },
  {
   "cell_type": "markdown",
   "metadata": {},
   "source": [
    "#### 1차 필터링(룰 베이스)\n",
    "in_noisy_not_noisy 를 clean data에 포함시킬 수 있다"
   ]
  },
  {
   "cell_type": "code",
   "execution_count": null,
   "metadata": {},
   "outputs": [],
   "source": [
    "def noise_check_by_rule(text: str) -> bool:\n",
    "    tokens = text.split()\n",
    "\n",
    "    # 교차 횟수 계산 함수\n",
    "    def count_crossings(token):\n",
    "        crossing_count = 0\n",
    "        previous_type = None\n",
    "\n",
    "        # 토큰 길이가 2 미만인 경우는 노이즈로 판단하지 않음\n",
    "        if len(token) < 2:\n",
    "            return 0\n",
    "\n",
    "        for char in token:\n",
    "            # 한글, 숫자, 영문자, 특수문자로 타입 분류\n",
    "            if \"가\" <= char <= \"힣\":  # 한글\n",
    "                current_type = \"K\"\n",
    "            elif \"0\" <= char <= \"9\":  # 숫자\n",
    "                current_type = \"N\"\n",
    "            elif \"A\" <= char <= \"Z\" or \"a\" <= char <= \"z\":  # 영문자\n",
    "                current_type = \"E\"\n",
    "            else:  # 특수문자\n",
    "                current_type = \"S\"\n",
    "\n",
    "            # 이전 타입과 다른 타입이 나오면 교차 발생\n",
    "            if previous_type and previous_type != current_type:\n",
    "                crossing_count += 1\n",
    "            previous_type = current_type\n",
    "\n",
    "        return crossing_count\n",
    "\n",
    "    # 각 토큰에 대해 교차 횟수 검사\n",
    "    for token in tokens:\n",
    "        # 예외 처리 1: 한국어와 숫자가 붙어있는 경우는 괜찮음\n",
    "        if re.fullmatch(r\"[가-힣]+[0-9]+|[0-9]+[가-힣]+\", token):\n",
    "            continue\n",
    "\n",
    "        # 예외 처리 2: \"...\"이 포함된 토큰은 노이즈로 간주하지 않음\n",
    "        if \"...\" in token:\n",
    "            continue\n",
    "\n",
    "        # 교차가 2회 이상인 경우만 노이즈로 간주\n",
    "        if count_crossings(token) >= 2:\n",
    "            return True\n",
    "\n",
    "    return False"
   ]
  },
  {
   "cell_type": "code",
   "execution_count": null,
   "metadata": {},
   "outputs": [],
   "source": [
    "df[\"is_noised\"] = df[\"text\"].apply(noise_check_by_rule)"
   ]
  },
  {
   "cell_type": "code",
   "execution_count": null,
   "metadata": {},
   "outputs": [
    {
     "data": {
      "text/html": [
       "<div>\n",
       "<style scoped>\n",
       "    .dataframe tbody tr th:only-of-type {\n",
       "        vertical-align: middle;\n",
       "    }\n",
       "\n",
       "    .dataframe tbody tr th {\n",
       "        vertical-align: top;\n",
       "    }\n",
       "\n",
       "    .dataframe thead th {\n",
       "        text-align: right;\n",
       "    }\n",
       "</style>\n",
       "<table border=\"1\" class=\"dataframe\">\n",
       "  <thead>\n",
       "    <tr style=\"text-align: right;\">\n",
       "      <th></th>\n",
       "      <th>ID</th>\n",
       "      <th>text</th>\n",
       "      <th>target</th>\n",
       "      <th>noise_ratio</th>\n",
       "      <th>noise_label</th>\n",
       "      <th>is_noised</th>\n",
       "    </tr>\n",
       "  </thead>\n",
       "  <tbody>\n",
       "    <tr>\n",
       "      <th>0</th>\n",
       "      <td>ynat-v1_train_00000</td>\n",
       "      <td>정i :파1 미사z KT( 이용기간 2e 단] Q분종U2보</td>\n",
       "      <td>4</td>\n",
       "      <td>0.450000</td>\n",
       "      <td>True</td>\n",
       "      <td>True</td>\n",
       "    </tr>\n",
       "    <tr>\n",
       "      <th>1</th>\n",
       "      <td>ynat-v1_train_00001</td>\n",
       "      <td>K찰.국DLwo 로L3한N% 회장 2 T0&amp;}송=</td>\n",
       "      <td>3</td>\n",
       "      <td>0.450000</td>\n",
       "      <td>True</td>\n",
       "      <td>True</td>\n",
       "    </tr>\n",
       "    <tr>\n",
       "      <th>2</th>\n",
       "      <td>ynat-v1_train_00002</td>\n",
       "      <td>m 김정) 자주통일 새,?r열1나가야1보</td>\n",
       "      <td>2</td>\n",
       "      <td>0.357143</td>\n",
       "      <td>True</td>\n",
       "      <td>True</td>\n",
       "    </tr>\n",
       "    <tr>\n",
       "      <th>3</th>\n",
       "      <td>ynat-v1_train_00003</td>\n",
       "      <td>갤노트8 주말 27만대 개통…시장은 불법 보조금 얼룩</td>\n",
       "      <td>5</td>\n",
       "      <td>0.000000</td>\n",
       "      <td>False</td>\n",
       "      <td>True</td>\n",
       "    </tr>\n",
       "    <tr>\n",
       "      <th>4</th>\n",
       "      <td>ynat-v1_train_00004</td>\n",
       "      <td>pI美대선I앞두고 R2fr단 발] $비해 감시 강화</td>\n",
       "      <td>6</td>\n",
       "      <td>0.352941</td>\n",
       "      <td>True</td>\n",
       "      <td>True</td>\n",
       "    </tr>\n",
       "  </tbody>\n",
       "</table>\n",
       "</div>"
      ],
      "text/plain": [
       "                    ID                              text  target  noise_ratio  \\\n",
       "0  ynat-v1_train_00000  정i :파1 미사z KT( 이용기간 2e 단] Q분종U2보       4     0.450000   \n",
       "1  ynat-v1_train_00001       K찰.국DLwo 로L3한N% 회장 2 T0&}송=       3     0.450000   \n",
       "2  ynat-v1_train_00002            m 김정) 자주통일 새,?r열1나가야1보       2     0.357143   \n",
       "3  ynat-v1_train_00003     갤노트8 주말 27만대 개통…시장은 불법 보조금 얼룩       5     0.000000   \n",
       "4  ynat-v1_train_00004      pI美대선I앞두고 R2fr단 발] $비해 감시 강화       6     0.352941   \n",
       "\n",
       "   noise_label  is_noised  \n",
       "0         True       True  \n",
       "1         True       True  \n",
       "2         True       True  \n",
       "3        False       True  \n",
       "4         True       True  "
      ]
     },
     "execution_count": 19,
     "metadata": {},
     "output_type": "execute_result"
    }
   ],
   "source": [
    "df.head()"
   ]
  },
  {
   "cell_type": "markdown",
   "metadata": {},
   "source": [
    "기존 필터링보다 엄격한 기준이기 때문에 noise_label이 False인 샘플들이 is_noised = True인 경우 생김\n",
    "\n",
    "확실한 노이즈 데이터를 걸러내는게 목적"
   ]
  },
  {
   "cell_type": "code",
   "execution_count": null,
   "metadata": {},
   "outputs": [],
   "source": [
    "first_filtered = df[df[\"is_noised\"] == True]\n",
    "first_survived = df[df[\"is_noised\"] == False]"
   ]
  },
  {
   "cell_type": "code",
   "execution_count": null,
   "metadata": {},
   "outputs": [],
   "source": [
    "not_clean = first_survived[first_survived.index.isin(in_clean_not_clean)]"
   ]
  },
  {
   "cell_type": "code",
   "execution_count": null,
   "metadata": {},
   "outputs": [
    {
     "data": {
      "text/html": [
       "<div>\n",
       "<style scoped>\n",
       "    .dataframe tbody tr th:only-of-type {\n",
       "        vertical-align: middle;\n",
       "    }\n",
       "\n",
       "    .dataframe tbody tr th {\n",
       "        vertical-align: top;\n",
       "    }\n",
       "\n",
       "    .dataframe thead th {\n",
       "        text-align: right;\n",
       "    }\n",
       "</style>\n",
       "<table border=\"1\" class=\"dataframe\">\n",
       "  <thead>\n",
       "    <tr style=\"text-align: right;\">\n",
       "      <th></th>\n",
       "      <th>ID</th>\n",
       "      <th>text</th>\n",
       "      <th>target</th>\n",
       "      <th>noise_ratio</th>\n",
       "      <th>noise_label</th>\n",
       "      <th>is_noised</th>\n",
       "    </tr>\n",
       "  </thead>\n",
       "  <tbody>\n",
       "    <tr>\n",
       "      <th>1608</th>\n",
       "      <td>ynat-v1_train_01608</td>\n",
       "      <td>신yFdP 조) 왕실% 간절한 기도처</td>\n",
       "      <td>0</td>\n",
       "      <td>0.181818</td>\n",
       "      <td>False</td>\n",
       "      <td>False</td>\n",
       "    </tr>\n",
       "  </tbody>\n",
       "</table>\n",
       "</div>"
      ],
      "text/plain": [
       "                       ID                  text  target  noise_ratio  \\\n",
       "1608  ynat-v1_train_01608  신yFdP 조) 왕실% 간절한 기도처       0     0.181818   \n",
       "\n",
       "      noise_label  is_noised  \n",
       "1608        False      False  "
      ]
     },
     "execution_count": 22,
     "metadata": {},
     "output_type": "execute_result"
    }
   ],
   "source": [
    "not_clean"
   ]
  },
  {
   "cell_type": "code",
   "execution_count": null,
   "metadata": {},
   "outputs": [],
   "source": [
    "noise_candidate = first_survived[first_survived[\"noise_label\"] == True]"
   ]
  },
  {
   "cell_type": "code",
   "execution_count": null,
   "metadata": {},
   "outputs": [
    {
     "data": {
      "text/plain": [
       "33"
      ]
     },
     "execution_count": 24,
     "metadata": {},
     "output_type": "execute_result"
    }
   ],
   "source": [
    "len(noise_candidate)"
   ]
  },
  {
   "cell_type": "code",
   "execution_count": null,
   "metadata": {},
   "outputs": [],
   "source": [
    "not_noise = noise_candidate[noise_candidate.index.isin(in_noisy_not_noisy)]"
   ]
  },
  {
   "cell_type": "code",
   "execution_count": null,
   "metadata": {},
   "outputs": [],
   "source": [
    "hidden_noise = noise_candidate[~noise_candidate.index.isin(in_noisy_not_noisy)]"
   ]
  },
  {
   "cell_type": "code",
   "execution_count": null,
   "metadata": {},
   "outputs": [
    {
     "data": {
      "text/plain": [
       "17"
      ]
     },
     "execution_count": 27,
     "metadata": {},
     "output_type": "execute_result"
    }
   ],
   "source": [
    "len(hidden_noise)"
   ]
  },
  {
   "cell_type": "code",
   "execution_count": null,
   "metadata": {},
   "outputs": [
    {
     "data": {
      "text/html": [
       "<div>\n",
       "<style scoped>\n",
       "    .dataframe tbody tr th:only-of-type {\n",
       "        vertical-align: middle;\n",
       "    }\n",
       "\n",
       "    .dataframe tbody tr th {\n",
       "        vertical-align: top;\n",
       "    }\n",
       "\n",
       "    .dataframe thead th {\n",
       "        text-align: right;\n",
       "    }\n",
       "</style>\n",
       "<table border=\"1\" class=\"dataframe\">\n",
       "  <thead>\n",
       "    <tr style=\"text-align: right;\">\n",
       "      <th></th>\n",
       "      <th>ID</th>\n",
       "      <th>text</th>\n",
       "      <th>target</th>\n",
       "      <th>noise_ratio</th>\n",
       "      <th>noise_label</th>\n",
       "      <th>is_noised</th>\n",
       "    </tr>\n",
       "  </thead>\n",
       "  <tbody>\n",
       "    <tr>\n",
       "      <th>115</th>\n",
       "      <td>ynat-v1_train_00115</td>\n",
       "      <td>최병륜 울산MBC 사장</td>\n",
       "      <td>4</td>\n",
       "      <td>0.250000</td>\n",
       "      <td>True</td>\n",
       "      <td>False</td>\n",
       "    </tr>\n",
       "    <tr>\n",
       "      <th>124</th>\n",
       "      <td>ynat-v1_train_00124</td>\n",
       "      <td>발언하\\ 박광E</td>\n",
       "      <td>2</td>\n",
       "      <td>0.285714</td>\n",
       "      <td>True</td>\n",
       "      <td>False</td>\n",
       "    </tr>\n",
       "    <tr>\n",
       "      <th>184</th>\n",
       "      <td>ynat-v1_train_00184</td>\n",
       "      <td>프로농구 !울 SK 일` 교체 선수w L리엄스 영O</td>\n",
       "      <td>1</td>\n",
       "      <td>0.428571</td>\n",
       "      <td>True</td>\n",
       "      <td>False</td>\n",
       "    </tr>\n",
       "    <tr>\n",
       "      <th>330</th>\n",
       "      <td>ynat-v1_train_00330</td>\n",
       "      <td>KT Be Y 폰 2 단독 출시</td>\n",
       "      <td>3</td>\n",
       "      <td>0.428571</td>\n",
       "      <td>True</td>\n",
       "      <td>False</td>\n",
       "    </tr>\n",
       "    <tr>\n",
       "      <th>467</th>\n",
       "      <td>ynat-v1_train_00467</td>\n",
       "      <td>SKT유콘시스템 5G 드론용 ICT 솔루션 개발 협력</td>\n",
       "      <td>0</td>\n",
       "      <td>0.272727</td>\n",
       "      <td>True</td>\n",
       "      <td>False</td>\n",
       "    </tr>\n",
       "    <tr>\n",
       "      <th>543</th>\n",
       "      <td>ynat-v1_train_00543</td>\n",
       "      <td>구z 사이로 또 한 해가( 충남 해넘' 명소 북Z</td>\n",
       "      <td>0</td>\n",
       "      <td>0.266667</td>\n",
       "      <td>True</td>\n",
       "      <td>False</td>\n",
       "    </tr>\n",
       "    <tr>\n",
       "      <th>1181</th>\n",
       "      <td>ynat-v1_train_01181</td>\n",
       "      <td>jAIST ~I 월드i 8승</td>\n",
       "      <td>4</td>\n",
       "      <td>0.428571</td>\n",
       "      <td>True</td>\n",
       "      <td>False</td>\n",
       "    </tr>\n",
       "    <tr>\n",
       "      <th>1187</th>\n",
       "      <td>ynat-v1_train_01187</td>\n",
       "      <td>HDC 부동산114 자회사로 편입</td>\n",
       "      <td>6</td>\n",
       "      <td>0.200000</td>\n",
       "      <td>True</td>\n",
       "      <td>False</td>\n",
       "    </tr>\n",
       "    <tr>\n",
       "      <th>1444</th>\n",
       "      <td>ynat-v1_train_01444</td>\n",
       "      <td>SKT 갤럭시 A8 스타 단독 출시</td>\n",
       "      <td>3</td>\n",
       "      <td>0.285714</td>\n",
       "      <td>True</td>\n",
       "      <td>False</td>\n",
       "    </tr>\n",
       "    <tr>\n",
       "      <th>1980</th>\n",
       "      <td>ynat-v1_train_01980</td>\n",
       "      <td>게시판 ;로골퍼 박민m 필승UWS 펀드 1`</td>\n",
       "      <td>1</td>\n",
       "      <td>0.400000</td>\n",
       "      <td>True</td>\n",
       "      <td>False</td>\n",
       "    </tr>\n",
       "    <tr>\n",
       "      <th>2079</th>\n",
       "      <td>ynat-v1_train_02079</td>\n",
       "      <td>경희궁 옛 사진부w 100년전 놀이판eC f속박물관 기획7</td>\n",
       "      <td>0</td>\n",
       "      <td>0.214286</td>\n",
       "      <td>True</td>\n",
       "      <td>False</td>\n",
       "    </tr>\n",
       "    <tr>\n",
       "      <th>2299</th>\n",
       "      <td>ynat-v1_train_02299</td>\n",
       "      <td>LG전자 트리플 카메라 장착한 LG X6 출시</td>\n",
       "      <td>0</td>\n",
       "      <td>0.272727</td>\n",
       "      <td>True</td>\n",
       "      <td>False</td>\n",
       "    </tr>\n",
       "    <tr>\n",
       "      <th>2302</th>\n",
       "      <td>ynat-v1_train_02302</td>\n",
       "      <td>SK텔레콤 IoT 네트워크 기반 맞춤 서비스</td>\n",
       "      <td>4</td>\n",
       "      <td>0.285714</td>\n",
       "      <td>True</td>\n",
       "      <td>False</td>\n",
       "    </tr>\n",
       "    <tr>\n",
       "      <th>2421</th>\n",
       "      <td>ynat-v1_train_02421</td>\n",
       "      <td>CJ EM 플레디스엔터 지분 51% 인수 추진</td>\n",
       "      <td>3</td>\n",
       "      <td>0.375000</td>\n",
       "      <td>True</td>\n",
       "      <td>False</td>\n",
       "    </tr>\n",
       "    <tr>\n",
       "      <th>2612</th>\n",
       "      <td>ynat-v1_train_02612</td>\n",
       "      <td>SK텔레콤 AI 드림팀 완성… AI리서치센터 조직 신설</td>\n",
       "      <td>4</td>\n",
       "      <td>0.272727</td>\n",
       "      <td>True</td>\n",
       "      <td>False</td>\n",
       "    </tr>\n",
       "    <tr>\n",
       "      <th>2638</th>\n",
       "      <td>ynat-v1_train_02638</td>\n",
       "      <td>w콩 T립 깃발</td>\n",
       "      <td>6</td>\n",
       "      <td>0.400000</td>\n",
       "      <td>True</td>\n",
       "      <td>False</td>\n",
       "    </tr>\n",
       "    <tr>\n",
       "      <th>2725</th>\n",
       "      <td>ynat-v1_train_02725</td>\n",
       "      <td>}성직렬 nC쇼</td>\n",
       "      <td>4</td>\n",
       "      <td>0.400000</td>\n",
       "      <td>True</td>\n",
       "      <td>False</td>\n",
       "    </tr>\n",
       "  </tbody>\n",
       "</table>\n",
       "</div>"
      ],
      "text/plain": [
       "                       ID                              text  target  \\\n",
       "115   ynat-v1_train_00115                      최병륜 울산MBC 사장       4   \n",
       "124   ynat-v1_train_00124                          발언하\\ 박광E       2   \n",
       "184   ynat-v1_train_00184      프로농구 !울 SK 일` 교체 선수w L리엄스 영O       1   \n",
       "330   ynat-v1_train_00330                 KT Be Y 폰 2 단독 출시       3   \n",
       "467   ynat-v1_train_00467     SKT유콘시스템 5G 드론용 ICT 솔루션 개발 협력       0   \n",
       "543   ynat-v1_train_00543       구z 사이로 또 한 해가( 충남 해넘' 명소 북Z       0   \n",
       "1181  ynat-v1_train_01181                   jAIST ~I 월드i 8승       4   \n",
       "1187  ynat-v1_train_01187                HDC 부동산114 자회사로 편입       6   \n",
       "1444  ynat-v1_train_01444               SKT 갤럭시 A8 스타 단독 출시       3   \n",
       "1980  ynat-v1_train_01980          게시판 ;로골퍼 박민m 필승UWS 펀드 1`       1   \n",
       "2079  ynat-v1_train_02079  경희궁 옛 사진부w 100년전 놀이판eC f속박물관 기획7       0   \n",
       "2299  ynat-v1_train_02299         LG전자 트리플 카메라 장착한 LG X6 출시       0   \n",
       "2302  ynat-v1_train_02302          SK텔레콤 IoT 네트워크 기반 맞춤 서비스       4   \n",
       "2421  ynat-v1_train_02421         CJ EM 플레디스엔터 지분 51% 인수 추진       3   \n",
       "2612  ynat-v1_train_02612    SK텔레콤 AI 드림팀 완성… AI리서치센터 조직 신설       4   \n",
       "2638  ynat-v1_train_02638                          w콩 T립 깃발       6   \n",
       "2725  ynat-v1_train_02725                          }성직렬 nC쇼       4   \n",
       "\n",
       "      noise_ratio  noise_label  is_noised  \n",
       "115      0.250000         True      False  \n",
       "124      0.285714         True      False  \n",
       "184      0.428571         True      False  \n",
       "330      0.428571         True      False  \n",
       "467      0.272727         True      False  \n",
       "543      0.266667         True      False  \n",
       "1181     0.428571         True      False  \n",
       "1187     0.200000         True      False  \n",
       "1444     0.285714         True      False  \n",
       "1980     0.400000         True      False  \n",
       "2079     0.214286         True      False  \n",
       "2299     0.272727         True      False  \n",
       "2302     0.285714         True      False  \n",
       "2421     0.375000         True      False  \n",
       "2612     0.272727         True      False  \n",
       "2638     0.400000         True      False  \n",
       "2725     0.400000         True      False  "
      ]
     },
     "execution_count": 28,
     "metadata": {},
     "output_type": "execute_result"
    }
   ],
   "source": [
    "hidden_noise"
   ]
  },
  {
   "cell_type": "markdown",
   "metadata": {},
   "source": [
    "근데 지금 보니까 진짜 노이즈 아닌 애들 발견\n",
    "\n",
    "115, 467, 1187, 1444, 2299, 2302, 2321, 2421, 2612"
   ]
  },
  {
   "cell_type": "code",
   "execution_count": null,
   "metadata": {},
   "outputs": [],
   "source": [
    "in_noisy_not_noisy_updated = [\n",
    "    1027,\n",
    "    736,\n",
    "    746,\n",
    "    1847,\n",
    "    652,\n",
    "    2434,\n",
    "    1692,\n",
    "    2111,\n",
    "    1707,\n",
    "    1688,\n",
    "    2427,\n",
    "    2009,\n",
    "    2289,\n",
    "    1438,\n",
    "    2491,\n",
    "    853,\n",
    "    2139,\n",
    "    957,\n",
    "    2555,\n",
    "    1994,\n",
    "    115,\n",
    "    467,\n",
    "    1187,\n",
    "    1444,\n",
    "    2299,\n",
    "    2302,\n",
    "    2321,\n",
    "    2421,\n",
    "    2612,\n",
    "]"
   ]
  },
  {
   "cell_type": "code",
   "execution_count": null,
   "metadata": {},
   "outputs": [],
   "source": [
    "not_noise_updated = noise_candidate[noise_candidate.index.isin(in_noisy_not_noisy_updated)]"
   ]
  },
  {
   "cell_type": "code",
   "execution_count": null,
   "metadata": {},
   "outputs": [
    {
     "data": {
      "text/plain": [
       "24"
      ]
     },
     "execution_count": 31,
     "metadata": {},
     "output_type": "execute_result"
    }
   ],
   "source": [
    "len(not_noise_updated)"
   ]
  },
  {
   "cell_type": "code",
   "execution_count": null,
   "metadata": {},
   "outputs": [],
   "source": [
    "hidden_noise_updated = noise_candidate[~noise_candidate.index.isin(in_noisy_not_noisy_updated)]"
   ]
  },
  {
   "cell_type": "code",
   "execution_count": null,
   "metadata": {},
   "outputs": [
    {
     "data": {
      "text/html": [
       "<div>\n",
       "<style scoped>\n",
       "    .dataframe tbody tr th:only-of-type {\n",
       "        vertical-align: middle;\n",
       "    }\n",
       "\n",
       "    .dataframe tbody tr th {\n",
       "        vertical-align: top;\n",
       "    }\n",
       "\n",
       "    .dataframe thead th {\n",
       "        text-align: right;\n",
       "    }\n",
       "</style>\n",
       "<table border=\"1\" class=\"dataframe\">\n",
       "  <thead>\n",
       "    <tr style=\"text-align: right;\">\n",
       "      <th></th>\n",
       "      <th>ID</th>\n",
       "      <th>text</th>\n",
       "      <th>target</th>\n",
       "      <th>noise_ratio</th>\n",
       "      <th>noise_label</th>\n",
       "      <th>is_noised</th>\n",
       "    </tr>\n",
       "  </thead>\n",
       "  <tbody>\n",
       "    <tr>\n",
       "      <th>124</th>\n",
       "      <td>ynat-v1_train_00124</td>\n",
       "      <td>발언하\\ 박광E</td>\n",
       "      <td>2</td>\n",
       "      <td>0.285714</td>\n",
       "      <td>True</td>\n",
       "      <td>False</td>\n",
       "    </tr>\n",
       "    <tr>\n",
       "      <th>184</th>\n",
       "      <td>ynat-v1_train_00184</td>\n",
       "      <td>프로농구 !울 SK 일` 교체 선수w L리엄스 영O</td>\n",
       "      <td>1</td>\n",
       "      <td>0.428571</td>\n",
       "      <td>True</td>\n",
       "      <td>False</td>\n",
       "    </tr>\n",
       "    <tr>\n",
       "      <th>330</th>\n",
       "      <td>ynat-v1_train_00330</td>\n",
       "      <td>KT Be Y 폰 2 단독 출시</td>\n",
       "      <td>3</td>\n",
       "      <td>0.428571</td>\n",
       "      <td>True</td>\n",
       "      <td>False</td>\n",
       "    </tr>\n",
       "    <tr>\n",
       "      <th>543</th>\n",
       "      <td>ynat-v1_train_00543</td>\n",
       "      <td>구z 사이로 또 한 해가( 충남 해넘' 명소 북Z</td>\n",
       "      <td>0</td>\n",
       "      <td>0.266667</td>\n",
       "      <td>True</td>\n",
       "      <td>False</td>\n",
       "    </tr>\n",
       "    <tr>\n",
       "      <th>1181</th>\n",
       "      <td>ynat-v1_train_01181</td>\n",
       "      <td>jAIST ~I 월드i 8승</td>\n",
       "      <td>4</td>\n",
       "      <td>0.428571</td>\n",
       "      <td>True</td>\n",
       "      <td>False</td>\n",
       "    </tr>\n",
       "    <tr>\n",
       "      <th>1980</th>\n",
       "      <td>ynat-v1_train_01980</td>\n",
       "      <td>게시판 ;로골퍼 박민m 필승UWS 펀드 1`</td>\n",
       "      <td>1</td>\n",
       "      <td>0.400000</td>\n",
       "      <td>True</td>\n",
       "      <td>False</td>\n",
       "    </tr>\n",
       "    <tr>\n",
       "      <th>2079</th>\n",
       "      <td>ynat-v1_train_02079</td>\n",
       "      <td>경희궁 옛 사진부w 100년전 놀이판eC f속박물관 기획7</td>\n",
       "      <td>0</td>\n",
       "      <td>0.214286</td>\n",
       "      <td>True</td>\n",
       "      <td>False</td>\n",
       "    </tr>\n",
       "    <tr>\n",
       "      <th>2638</th>\n",
       "      <td>ynat-v1_train_02638</td>\n",
       "      <td>w콩 T립 깃발</td>\n",
       "      <td>6</td>\n",
       "      <td>0.400000</td>\n",
       "      <td>True</td>\n",
       "      <td>False</td>\n",
       "    </tr>\n",
       "    <tr>\n",
       "      <th>2725</th>\n",
       "      <td>ynat-v1_train_02725</td>\n",
       "      <td>}성직렬 nC쇼</td>\n",
       "      <td>4</td>\n",
       "      <td>0.400000</td>\n",
       "      <td>True</td>\n",
       "      <td>False</td>\n",
       "    </tr>\n",
       "  </tbody>\n",
       "</table>\n",
       "</div>"
      ],
      "text/plain": [
       "                       ID                              text  target  \\\n",
       "124   ynat-v1_train_00124                          발언하\\ 박광E       2   \n",
       "184   ynat-v1_train_00184      프로농구 !울 SK 일` 교체 선수w L리엄스 영O       1   \n",
       "330   ynat-v1_train_00330                 KT Be Y 폰 2 단독 출시       3   \n",
       "543   ynat-v1_train_00543       구z 사이로 또 한 해가( 충남 해넘' 명소 북Z       0   \n",
       "1181  ynat-v1_train_01181                   jAIST ~I 월드i 8승       4   \n",
       "1980  ynat-v1_train_01980          게시판 ;로골퍼 박민m 필승UWS 펀드 1`       1   \n",
       "2079  ynat-v1_train_02079  경희궁 옛 사진부w 100년전 놀이판eC f속박물관 기획7       0   \n",
       "2638  ynat-v1_train_02638                          w콩 T립 깃발       6   \n",
       "2725  ynat-v1_train_02725                          }성직렬 nC쇼       4   \n",
       "\n",
       "      noise_ratio  noise_label  is_noised  \n",
       "124      0.285714         True      False  \n",
       "184      0.428571         True      False  \n",
       "330      0.428571         True      False  \n",
       "543      0.266667         True      False  \n",
       "1181     0.428571         True      False  \n",
       "1980     0.400000         True      False  \n",
       "2079     0.214286         True      False  \n",
       "2638     0.400000         True      False  \n",
       "2725     0.400000         True      False  "
      ]
     },
     "execution_count": 33,
     "metadata": {},
     "output_type": "execute_result"
    }
   ],
   "source": [
    "hidden_noise_updated"
   ]
  },
  {
   "cell_type": "code",
   "execution_count": null,
   "metadata": {},
   "outputs": [
    {
     "data": {
      "text/plain": [
       "603"
      ]
     },
     "execution_count": 39,
     "metadata": {},
     "output_type": "execute_result"
    }
   ],
   "source": [
    "len(first_survived)\n",
    "# 9개는 noise"
   ]
  },
  {
   "cell_type": "code",
   "execution_count": null,
   "metadata": {},
   "outputs": [],
   "source": [
    "second_filtered = first_filtered[first_filtered[\"noise_label\"] == True]\n",
    "second_survived = first_filtered[first_filtered[\"noise_label\"] == False]"
   ]
  },
  {
   "cell_type": "code",
   "execution_count": null,
   "metadata": {},
   "outputs": [
    {
     "data": {
      "text/plain": [
       "1568"
      ]
     },
     "execution_count": 37,
     "metadata": {},
     "output_type": "execute_result"
    }
   ],
   "source": [
    "len(second_filtered)"
   ]
  },
  {
   "cell_type": "code",
   "execution_count": null,
   "metadata": {},
   "outputs": [
    {
     "data": {
      "text/plain": [
       "629"
      ]
     },
     "execution_count": 38,
     "metadata": {},
     "output_type": "execute_result"
    }
   ],
   "source": [
    "len(second_survived)"
   ]
  },
  {
   "cell_type": "code",
   "execution_count": null,
   "metadata": {},
   "outputs": [],
   "source": [
    "second_survived"
   ]
  }
 ],
 "metadata": {
  "kernelspec": {
   "display_name": "data-centric-0i6SbDDw",
   "language": "python",
   "name": "python3"
  },
  "language_info": {
   "codemirror_mode": {
    "name": "ipython",
    "version": 3
   },
   "file_extension": ".py",
   "mimetype": "text/x-python",
   "name": "python",
   "nbconvert_exporter": "python",
   "pygments_lexer": "ipython3",
   "version": "3.10.13"
  }
 },
 "nbformat": 4,
 "nbformat_minor": 2
}
